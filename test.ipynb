{
 "cells": [
  {
   "cell_type": "code",
   "id": "initial_id",
   "metadata": {
    "collapsed": true,
    "ExecuteTime": {
     "end_time": "2025-04-12T11:21:19.745584Z",
     "start_time": "2025-04-12T11:21:19.727824Z"
    }
   },
   "source": [
    "import os\n",
    "import librosa\n",
    "import sounddevice as sd\n",
    "import torch\n",
    "import torchaudio\n",
    "import torchaudio.transforms as T\n",
    "from IPython.display import Audio\n",
    "\n",
    "noise_tensor = torch.load(\"data/train/audio_transformed/_background_noise_/white_noise.pt\")\n",
    "voice_tensor = torch.load(\"data/train/audio_transformed/on/f5496439_nohash_0.pt\")\n",
    "\n",
    "print(noise_tensor.shape)\n",
    "print(voice_tensor.shape)"
   ],
   "outputs": [
    {
     "name": "stdout",
     "output_type": "stream",
     "text": [
      "torch.Size([1, 201, 4801])\n",
      "torch.Size([1, 201, 81])\n"
     ]
    }
   ],
   "execution_count": 24
  },
  {
   "metadata": {
    "ExecuteTime": {
     "end_time": "2025-04-12T11:14:38.785618Z",
     "start_time": "2025-04-12T11:14:38.779993Z"
    }
   },
   "cell_type": "code",
   "source": [
    "waveform, sample_rate = torchaudio.load(\"data/train/audio/_background_noise_/white_noise.wav\")\n",
    "print(waveform.shape)\n",
    "\n",
    "waveform, sample_rate = torchaudio.load(\"data/train/audio/on/f5496439_nohash_0.wav\")\n",
    "print(waveform.shape)"
   ],
   "id": "fbc91756e4f1e74d",
   "outputs": [
    {
     "name": "stdout",
     "output_type": "stream",
     "text": [
      "torch.Size([1, 960000])\n",
      "torch.Size([1, 16000])\n"
     ]
    }
   ],
   "execution_count": 11
  },
  {
   "metadata": {
    "ExecuteTime": {
     "end_time": "2025-04-12T11:22:30.485421Z",
     "start_time": "2025-04-12T11:21:25.593641Z"
    }
   },
   "cell_type": "code",
   "source": [
    "# waveform, sample_rate = torchaudio.load(\"data/train/audio/_background_noise_/white_noise.wav\")\n",
    "y, sr = librosa.load(\"data/train/audio/_background_noise_/white_noise.wav\", sr=16000)\n",
    "sd.play(y, sr)\n",
    "sd.wait()"
   ],
   "id": "24117fbb8cbeb940",
   "outputs": [
    {
     "name": "stderr",
     "output_type": "stream",
     "text": [
      "C:\\Users\\jakub\\anaconda3\\Lib\\site-packages\\paramiko\\pkey.py:82: CryptographyDeprecationWarning: TripleDES has been moved to cryptography.hazmat.decrepit.ciphers.algorithms.TripleDES and will be removed from this module in 48.0.0.\n",
      "  \"cipher\": algorithms.TripleDES,\n",
      "C:\\Users\\jakub\\anaconda3\\Lib\\site-packages\\paramiko\\transport.py:219: CryptographyDeprecationWarning: Blowfish has been moved to cryptography.hazmat.decrepit.ciphers.algorithms.Blowfish and will be removed from this module in 45.0.0.\n",
      "  \"class\": algorithms.Blowfish,\n",
      "C:\\Users\\jakub\\anaconda3\\Lib\\site-packages\\paramiko\\transport.py:243: CryptographyDeprecationWarning: TripleDES has been moved to cryptography.hazmat.decrepit.ciphers.algorithms.TripleDES and will be removed from this module in 48.0.0.\n",
      "  \"class\": algorithms.TripleDES,\n"
     ]
    },
    {
     "ename": "KeyboardInterrupt",
     "evalue": "",
     "output_type": "error",
     "traceback": [
      "\u001B[1;31m---------------------------------------------------------------------------\u001B[0m",
      "\u001B[1;31mKeyboardInterrupt\u001B[0m                         Traceback (most recent call last)",
      "Cell \u001B[1;32mIn[25], line 4\u001B[0m\n\u001B[0;32m      2\u001B[0m y, sr \u001B[38;5;241m=\u001B[39m librosa\u001B[38;5;241m.\u001B[39mload(\u001B[38;5;124m\"\u001B[39m\u001B[38;5;124mdata/train/audio/_background_noise_/white_noise.wav\u001B[39m\u001B[38;5;124m\"\u001B[39m, sr\u001B[38;5;241m=\u001B[39m\u001B[38;5;241m16000\u001B[39m)\n\u001B[0;32m      3\u001B[0m sd\u001B[38;5;241m.\u001B[39mplay(y, sr)\n\u001B[1;32m----> 4\u001B[0m sd\u001B[38;5;241m.\u001B[39mwait()\n",
      "File \u001B[1;32m~\\anaconda3\\Lib\\site-packages\\sounddevice.py:398\u001B[0m, in \u001B[0;36mwait\u001B[1;34m(ignore_errors)\u001B[0m\n\u001B[0;32m    382\u001B[0m \u001B[38;5;250m\u001B[39m\u001B[38;5;124;03m\"\"\"Wait for `play()`/`rec()`/`playrec()` to be finished.\u001B[39;00m\n\u001B[0;32m    383\u001B[0m \n\u001B[0;32m    384\u001B[0m \u001B[38;5;124;03mPlayback/recording can be stopped with a `KeyboardInterrupt`.\u001B[39;00m\n\u001B[1;32m   (...)\u001B[0m\n\u001B[0;32m    395\u001B[0m \n\u001B[0;32m    396\u001B[0m \u001B[38;5;124;03m\"\"\"\u001B[39;00m\n\u001B[0;32m    397\u001B[0m \u001B[38;5;28;01mif\u001B[39;00m _last_callback:\n\u001B[1;32m--> 398\u001B[0m     \u001B[38;5;28;01mreturn\u001B[39;00m _last_callback\u001B[38;5;241m.\u001B[39mwait(ignore_errors)\n",
      "File \u001B[1;32m~\\anaconda3\\Lib\\site-packages\\sounddevice.py:2645\u001B[0m, in \u001B[0;36m_CallbackContext.wait\u001B[1;34m(self, ignore_errors)\u001B[0m\n\u001B[0;32m   2639\u001B[0m \u001B[38;5;250m\u001B[39m\u001B[38;5;124;03m\"\"\"Wait for finished_callback.\u001B[39;00m\n\u001B[0;32m   2640\u001B[0m \n\u001B[0;32m   2641\u001B[0m \u001B[38;5;124;03mCan be interrupted with a KeyboardInterrupt.\u001B[39;00m\n\u001B[0;32m   2642\u001B[0m \n\u001B[0;32m   2643\u001B[0m \u001B[38;5;124;03m\"\"\"\u001B[39;00m\n\u001B[0;32m   2644\u001B[0m \u001B[38;5;28;01mtry\u001B[39;00m:\n\u001B[1;32m-> 2645\u001B[0m     \u001B[38;5;28mself\u001B[39m\u001B[38;5;241m.\u001B[39mevent\u001B[38;5;241m.\u001B[39mwait()\n\u001B[0;32m   2646\u001B[0m \u001B[38;5;28;01mfinally\u001B[39;00m:\n\u001B[0;32m   2647\u001B[0m     \u001B[38;5;28mself\u001B[39m\u001B[38;5;241m.\u001B[39mstream\u001B[38;5;241m.\u001B[39mclose(ignore_errors)\n",
      "File \u001B[1;32m~\\anaconda3\\Lib\\threading.py:655\u001B[0m, in \u001B[0;36mEvent.wait\u001B[1;34m(self, timeout)\u001B[0m\n\u001B[0;32m    653\u001B[0m signaled \u001B[38;5;241m=\u001B[39m \u001B[38;5;28mself\u001B[39m\u001B[38;5;241m.\u001B[39m_flag\n\u001B[0;32m    654\u001B[0m \u001B[38;5;28;01mif\u001B[39;00m \u001B[38;5;129;01mnot\u001B[39;00m signaled:\n\u001B[1;32m--> 655\u001B[0m     signaled \u001B[38;5;241m=\u001B[39m \u001B[38;5;28mself\u001B[39m\u001B[38;5;241m.\u001B[39m_cond\u001B[38;5;241m.\u001B[39mwait(timeout)\n\u001B[0;32m    656\u001B[0m \u001B[38;5;28;01mreturn\u001B[39;00m signaled\n",
      "File \u001B[1;32m~\\anaconda3\\Lib\\threading.py:355\u001B[0m, in \u001B[0;36mCondition.wait\u001B[1;34m(self, timeout)\u001B[0m\n\u001B[0;32m    353\u001B[0m \u001B[38;5;28;01mtry\u001B[39;00m:    \u001B[38;5;66;03m# restore state no matter what (e.g., KeyboardInterrupt)\u001B[39;00m\n\u001B[0;32m    354\u001B[0m     \u001B[38;5;28;01mif\u001B[39;00m timeout \u001B[38;5;129;01mis\u001B[39;00m \u001B[38;5;28;01mNone\u001B[39;00m:\n\u001B[1;32m--> 355\u001B[0m         waiter\u001B[38;5;241m.\u001B[39macquire()\n\u001B[0;32m    356\u001B[0m         gotit \u001B[38;5;241m=\u001B[39m \u001B[38;5;28;01mTrue\u001B[39;00m\n\u001B[0;32m    357\u001B[0m     \u001B[38;5;28;01melse\u001B[39;00m:\n",
      "\u001B[1;31mKeyboardInterrupt\u001B[0m: "
     ]
    }
   ],
   "execution_count": 25
  },
  {
   "metadata": {},
   "cell_type": "markdown",
   "source": "### Augmentation",
   "id": "c16636f5494d8c6b"
  },
  {
   "metadata": {
    "ExecuteTime": {
     "end_time": "2025-04-12T11:33:27.765452Z",
     "start_time": "2025-04-12T11:33:27.759607Z"
    }
   },
   "cell_type": "code",
   "source": [
    "noise_spectrogram = torch.load(\"data/train/audio_transformed/_background_noise_/white_noise.pt\")\n",
    "voice_spectrogram = torch.load(\"data/train/audio_transformed/on/f5496439_nohash_0.pt\")\n",
    "\n",
    "start_idx = torch.randint(0, noise_spectrogram.size(2) - voice_spectrogram.size(2), (1,)).item()\n",
    "noise_segment = noise_spectrogram[:, :, start_idx:start_idx + voice_spectrogram.size(2)]\n",
    "print(noise_spectrogram.shape)\n",
    "print(voice_spectrogram.shape)\n",
    "print(noise_segment.shape)"
   ],
   "id": "415fdb3f20b49ca4",
   "outputs": [
    {
     "name": "stdout",
     "output_type": "stream",
     "text": [
      "torch.Size([1, 201, 4801])\n",
      "torch.Size([1, 201, 81])\n",
      "torch.Size([1, 201, 81])\n"
     ]
    }
   ],
   "execution_count": 28
  },
  {
   "metadata": {},
   "cell_type": "code",
   "outputs": [],
   "execution_count": null,
   "source": [
    "# Normalize both spectrograms (assuming they're already log-transformed)\n",
    "# voice_norm = (voice_spectrogram - voice_spectrogram.min()) / (voice_spectrogram.max() - voice_spectrogram.min())\n",
    "# noise_norm = (noise_segment - noise_segment.min()) / (noise_segment.max() - noise_segment.min())\n",
    "\n",
    "# combined_magnitude = spectrogram1 + spectrogram2\n",
    "\n",
    "# Apply log transformation to the combined magnitude spectrogram\n",
    "# log_spectrogram = torch.log(combined_magnitude + 1e-10)"
   ],
   "id": "d59056de12fcf57b"
  },
  {
   "metadata": {
    "ExecuteTime": {
     "end_time": "2025-04-12T13:35:32.170175Z",
     "start_time": "2025-04-12T13:35:32.160902Z"
    }
   },
   "cell_type": "code",
   "source": "torch.exp(noise_spectrogram).max()",
   "id": "6b61b1faf5e15e6",
   "outputs": [
    {
     "data": {
      "text/plain": [
       "tensor(233.0482)"
      ]
     },
     "execution_count": 33,
     "metadata": {},
     "output_type": "execute_result"
    }
   ],
   "execution_count": 33
  }
 ],
 "metadata": {
  "kernelspec": {
   "display_name": "Python 3",
   "language": "python",
   "name": "python3"
  },
  "language_info": {
   "codemirror_mode": {
    "name": "ipython",
    "version": 2
   },
   "file_extension": ".py",
   "mimetype": "text/x-python",
   "name": "python",
   "nbconvert_exporter": "python",
   "pygments_lexer": "ipython2",
   "version": "2.7.6"
  }
 },
 "nbformat": 4,
 "nbformat_minor": 5
}
