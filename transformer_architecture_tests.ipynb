{
 "cells": [
  {
   "metadata": {
    "ExecuteTime": {
     "end_time": "2025-04-22T16:11:03.793272Z",
     "start_time": "2025-04-22T16:11:02.539491Z"
    }
   },
   "cell_type": "code",
   "source": [
    "%load_ext autoreload\n",
    "%autoreload 2\n",
    "from transformer import SpeechTransformer\n",
    "import os\n",
    "import torch\n",
    "import numpy as np\n",
    "from torch.utils.data import DataLoader\n",
    "from custom_dataset import SpectrogramDataset, BinaryDataset, create_sampler\n",
    "from training_pipeline import repeat_training, set_seed, worker_init_fn, plot_results\n",
    "from collections import Counter\n",
    "from sklearn.metrics import confusion_matrix\n",
    "import seaborn as sns\n",
    "import matplotlib.pyplot as plt"
   ],
   "id": "ebda585f22c90caa",
   "outputs": [],
   "execution_count": 1
  },
  {
   "metadata": {
    "collapsed": true,
    "ExecuteTime": {
     "end_time": "2025-04-22T16:11:03.836295Z",
     "start_time": "2025-04-22T16:11:03.795781Z"
    }
   },
   "cell_type": "code",
   "source": [
    "SEED = 42\n",
    "set_seed(SEED)\n",
    "repetitions = 4\n",
    "lr = 0.001\n",
    "epochs = 100\n",
    "tolerance = 10\n",
    "device = torch.device('cuda' if torch.cuda.is_available() else 'cpu')\n",
    "\n",
    "alpha = 1\n",
    "dropout = 0.3\n",
    "weight_decay = 0.0001\n",
    "augmented_fraction = 0.5\n",
    "label_smoothing = 0.1\n",
    "\n",
    "batch_size = 256\n",
    "n_workers = 4\n",
    "prefetch_factor = 2 if n_workers > 0 else None\n",
    "persistent_workers = True if n_workers > 0 else False"
   ],
   "id": "initial_id",
   "outputs": [],
   "execution_count": 2
  },
  {
   "metadata": {
    "ExecuteTime": {
     "end_time": "2025-04-22T16:11:21.985968Z",
     "start_time": "2025-04-22T16:11:03.878659Z"
    }
   },
   "cell_type": "code",
   "source": [
    "data_path = \"data/train/audio_transformed\"\n",
    "train_dataset = SpectrogramDataset(data_path, set_type=SpectrogramDataset.TRAIN, augmentation=True, augmented_fraction=augmented_fraction)\n",
    "val_dataset = SpectrogramDataset(data_path, set_type=SpectrogramDataset.VAL)\n",
    "test_dataset = SpectrogramDataset(data_path, set_type=SpectrogramDataset.TEST)\n",
    "\n",
    "sampler = create_sampler(train_dataset, alpha)\n",
    "train_loader = DataLoader(train_dataset, sampler=sampler, batch_size=batch_size, shuffle=False, num_workers=n_workers, pin_memory=True, prefetch_factor=prefetch_factor,persistent_workers=persistent_workers, worker_init_fn=worker_init_fn)\n",
    "\n",
    "val_loader = DataLoader(val_dataset, batch_size=batch_size, shuffle=False, num_workers=n_workers, pin_memory=True, prefetch_factor=prefetch_factor, persistent_workers=persistent_workers)\n",
    "test_loader = DataLoader(test_dataset, batch_size=batch_size, shuffle=False, num_workers=n_workers, pin_memory=True, prefetch_factor=prefetch_factor, persistent_workers=persistent_workers)"
   ],
   "id": "e59416b9c44d4e24",
   "outputs": [],
   "execution_count": 3
  },
  {
   "metadata": {},
   "cell_type": "markdown",
   "source": "## model dim",
   "id": "a659e0b077cab86f"
  },
  {
   "metadata": {
    "ExecuteTime": {
     "end_time": "2025-04-22T16:12:49.310778Z",
     "start_time": "2025-04-22T16:11:22.176975Z"
    }
   },
   "cell_type": "code",
   "source": [
    "# d_model = 128\n",
    "nhead = 4\n",
    "num_layers = 4\n",
    "\n",
    "set_seed(SEED)\n",
    "\n",
    "d_model_list = [64, 128, 256]\n",
    "for d_model in d_model_list:\n",
    "     \n",
    "     def init_transformer():\n",
    "          return SpeechTransformer(num_classes=11, dropout=dropout, d_model=d_model, nhead=nhead, num_layers=num_layers)\n",
    "     \n",
    "     model_dir = f\"output/models/all_classes/transformer/d_model/d_model={d_model}\"\n",
    "     history_dir = f\"output/history/all_classes/transformer/d_model/d_model={d_model}\"\n",
    "     \n",
    "     os.makedirs(model_dir, exist_ok=True)\n",
    "     os.makedirs(history_dir, exist_ok=True)\n",
    "     \n",
    "     model_path = model_dir + \"/transformer.pth\"\n",
    "     history_path = history_dir + \"/transformer.pkl\"\n",
    "     \n",
    "     repeat_training(repetitions, init_transformer, lr, model_path, history_path, epochs, train_loader, val_loader, test_loader, device, tolerance=tolerance, weight_decay=weight_decay, label_smoothing=label_smoothing)"
   ],
   "id": "84dc92556c63f4f2",
   "outputs": [
    {
     "name": "stdout",
     "output_type": "stream",
     "text": [
      "training iteration: 1 of 4\n",
      "starting training...\n",
      "epoch: 1, training loss: 0.009496262271950098, training accuracy: 9.180238020670217, training balanced accuracy: 9.150705246186215\n",
      "epoch: 1, validation loss: 0.00930058945624679, validation accuracy: 3.8393645189761694, validation balanced accuracy: 9.090909090909092\n",
      "model saved\n",
      "\n"
     ]
    },
    {
     "name": "stderr",
     "output_type": "stream",
     "text": [
      "\n",
      "KeyboardInterrupt\n",
      "\n"
     ]
    }
   ],
   "execution_count": 4
  },
  {
   "metadata": {},
   "cell_type": "code",
   "outputs": [],
   "execution_count": null,
   "source": [
    "d_model_root_dir = \"output/history/all_classes/transformer/d_model\"\n",
    "d_model_list = [64, 128, 256]\n",
    "x_label = \"model's dimension\"\n",
    "plot_results(d_model_root_dir, d_model_list, x_label, use_balanced_accuracy=True)"
   ],
   "id": "d7aea01b4a4fc8c5"
  },
  {
   "metadata": {},
   "cell_type": "markdown",
   "source": "## number of heads",
   "id": "2a2462c4ed2071ca"
  },
  {
   "metadata": {
    "ExecuteTime": {
     "end_time": "2025-04-22T15:55:45.800187Z",
     "start_time": "2025-04-22T15:55:45.794490Z"
    }
   },
   "cell_type": "code",
   "source": [
    "d_model = None # optimal or 128 \n",
    "num_layers = 4\n",
    "\n",
    "set_seed(SEED)\n",
    "\n",
    "nhead_list = [2, 4, 8]\n",
    "for nhead in nhead_list:\n",
    "     \n",
    "     def init_transformer():\n",
    "          return SpeechTransformer(num_classes=11, dropout=dropout, d_model=d_model, nhead=nhead, num_layers=num_layers)\n",
    "     \n",
    "     model_dir = f\"output/models/all_classes/transformer/nhead/nhead={nhead}\"\n",
    "     history_dir = f\"output/history/all_classes/transformer/nhead/nhead={nhead}\"\n",
    "     \n",
    "     os.makedirs(model_dir, exist_ok=True)\n",
    "     os.makedirs(history_dir, exist_ok=True)\n",
    "     \n",
    "     model_path = model_dir + \"/transformer.pth\"\n",
    "     history_path = history_dir + \"/transformer.pkl\"\n",
    "     \n",
    "     repeat_training(repetitions, init_transformer, lr, model_path, history_path, epochs, train_loader, val_loader, test_loader, device, tolerance=tolerance, weight_decay=weight_decay, label_smoothing=label_smoothing)"
   ],
   "id": "e5d2c592a8db3845",
   "outputs": [],
   "execution_count": null
  },
  {
   "metadata": {},
   "cell_type": "code",
   "outputs": [],
   "execution_count": null,
   "source": [
    "nhead_root_dir = \"output/history/all_classes/transformer/nhead\"\n",
    "nhead_list = [2, 4, 8]\n",
    "x_label = \"number of heads\"\n",
    "plot_results(nhead_root_dir, nhead_list, x_label, use_balanced_accuracy=True)"
   ],
   "id": "c9133b919d1f6944"
  },
  {
   "metadata": {},
   "cell_type": "markdown",
   "source": "## number of layers",
   "id": "3a32220bd308b71a"
  },
  {
   "metadata": {},
   "cell_type": "code",
   "outputs": [],
   "execution_count": null,
   "source": [
    "d_model = None # optimal or 128\n",
    "num_layers = None # optimal or 4\n",
    "\n",
    "set_seed(SEED)\n",
    "\n",
    "num_layers_list = [2, 4, 8]\n",
    "for num_layers in num_layers_list:\n",
    "     \n",
    "     def init_transformer():\n",
    "          return SpeechTransformer(num_classes=11, dropout=dropout, d_model=d_model, nhead=nhead, num_layers=num_layers)\n",
    "     \n",
    "     model_dir = f\"output/models/all_classes/transformer/num_layers/num_layers={num_layers}\"\n",
    "     history_dir = f\"output/history/all_classes/transformer/num_layers/num_layers={num_layers}\"\n",
    "     \n",
    "     os.makedirs(model_dir, exist_ok=True)\n",
    "     os.makedirs(history_dir, exist_ok=True)\n",
    "     \n",
    "     model_path = model_dir + \"/transformer.pth\"\n",
    "     history_path = history_dir + \"/transformer.pkl\"\n",
    "     \n",
    "     repeat_training(repetitions, init_transformer, lr, model_path, history_path, epochs, train_loader, val_loader, test_loader, device, tolerance=tolerance, weight_decay=weight_decay, label_smoothing=label_smoothing)"
   ],
   "id": "c56af747bb5e51a9"
  },
  {
   "metadata": {},
   "cell_type": "code",
   "outputs": [],
   "execution_count": null,
   "source": [
    "num_layers_root_dir = \"output/history/all_classes/transformer/num_layers\"\n",
    "num_layers_list = [2, 4, 8]\n",
    "x_label = \"number of layers\"\n",
    "plot_results(num_layers_root_dir, num_layers_list, x_label, use_balanced_accuracy=True)"
   ],
   "id": "2af5729578a84089"
  }
 ],
 "metadata": {
  "kernelspec": {
   "display_name": "Python 3",
   "language": "python",
   "name": "python3"
  },
  "language_info": {
   "codemirror_mode": {
    "name": "ipython",
    "version": 2
   },
   "file_extension": ".py",
   "mimetype": "text/x-python",
   "name": "python",
   "nbconvert_exporter": "python",
   "pygments_lexer": "ipython2",
   "version": "2.7.6"
  }
 },
 "nbformat": 4,
 "nbformat_minor": 5
}
