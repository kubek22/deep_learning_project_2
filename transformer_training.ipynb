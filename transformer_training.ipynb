{
 "cells": [
  {
   "cell_type": "code",
   "id": "initial_id",
   "metadata": {
    "collapsed": true
   },
   "source": [
    "%load_ext autoreload\n",
    "%autoreload 2\n",
    "from transformer import SpeechTransformer\n",
    "import os\n",
    "import torch\n",
    "import numpy as np\n",
    "from torch.utils.data import DataLoader\n",
    "from custom_dataset import SpectrogramDataset, BinaryDataset, create_sampler\n",
    "from training_pipeline import repeat_training, set_seed, worker_init_fn, plot_results\n",
    "from collections import Counter\n",
    "from sklearn.metrics import confusion_matrix\n",
    "import seaborn as sns\n",
    "import matplotlib.pyplot as plt"
   ],
   "outputs": [],
   "execution_count": null
  },
  {
   "metadata": {},
   "cell_type": "markdown",
   "source": "## Parameters",
   "id": "83efdef3ae450654"
  },
  {
   "metadata": {},
   "cell_type": "code",
   "source": [
    "SEED = 42\n",
    "set_seed(SEED)\n",
    "repetitions = 4\n",
    "lr = 0.001\n",
    "epochs = 100\n",
    "tolerance = 10\n",
    "device = torch.device('cuda' if torch.cuda.is_available() else 'cpu')\n",
    "\n",
    "alpha = 1\n",
    "dropout = 0.2\n",
    "weight_decay = 0.0\n",
    "augmented_fraction = 0.3\n",
    "label_smoothing = 0.0\n",
    "\n",
    "batch_size = 1024\n",
    "n_workers = 4\n",
    "prefetch_factor = 2 if n_workers > 0 else None\n",
    "persistent_workers = True if n_workers > 0 else False\n",
    "\n",
    "# architecture\n",
    "d_model = 128\n",
    "nhead = 8\n",
    "num_layers = 2"
   ],
   "id": "345eff81e3102c8f",
   "outputs": [],
   "execution_count": null
  },
  {
   "metadata": {},
   "cell_type": "markdown",
   "source": "## 10 classes + unknown",
   "id": "15f94a773795d102"
  },
  {
   "metadata": {},
   "cell_type": "code",
   "source": [
    "data_path = \"data/train/audio_transformed\"\n",
    "train_dataset = SpectrogramDataset(data_path, set_type=SpectrogramDataset.TRAIN, augmentation=True, augmented_fraction=augmented_fraction)\n",
    "val_dataset = SpectrogramDataset(data_path, set_type=SpectrogramDataset.VAL)\n",
    "test_dataset = SpectrogramDataset(data_path, set_type=SpectrogramDataset.TEST)\n",
    "\n",
    "sampler = create_sampler(train_dataset, alpha)\n",
    "train_loader = DataLoader(train_dataset, sampler=sampler, batch_size=batch_size, shuffle=False, num_workers=n_workers, pin_memory=True, prefetch_factor=prefetch_factor,persistent_workers=persistent_workers, worker_init_fn=worker_init_fn)\n",
    "\n",
    "val_loader = DataLoader(val_dataset, batch_size=batch_size, shuffle=False, num_workers=n_workers, pin_memory=True, prefetch_factor=prefetch_factor, persistent_workers=persistent_workers)\n",
    "test_loader = DataLoader(test_dataset, batch_size=batch_size, shuffle=False, num_workers=n_workers, pin_memory=True, prefetch_factor=prefetch_factor, persistent_workers=persistent_workers)"
   ],
   "id": "7ea9406109ade0b3",
   "outputs": [],
   "execution_count": null
  },
  {
   "metadata": {},
   "cell_type": "code",
   "source": [
    "def init_transformer_all_classes():\n",
    "     return SpeechTransformer(num_classes=11, dropout=dropout, d_model=d_model, nhead=nhead, num_layers=num_layers)\n",
    "\n",
    "set_seed(SEED)\n",
    "\n",
    "model_dir = f\"output/models/all_classes/final/transformer\"\n",
    "history_dir = f\"output/history/all_classes/final/transformer\"\n",
    "\n",
    "os.makedirs(model_dir, exist_ok=True)\n",
    "os.makedirs(history_dir, exist_ok=True)\n",
    "\n",
    "model_path = model_dir + \"/transformer.pth\"\n",
    "history_path = history_dir + \"/transformer.pkl\"\n",
    "\n",
    "repeat_training(repetitions, init_transformer_all_classes, lr, model_path, history_path, epochs, train_loader, val_loader, test_loader, device, tolerance=tolerance, weight_decay=weight_decay, label_smoothing=label_smoothing)"
   ],
   "id": "96b52c87d08d8488",
   "outputs": [],
   "execution_count": null
  },
  {
   "metadata": {},
   "cell_type": "markdown",
   "source": "## 10 classes",
   "id": "28a84da05ca20968"
  },
  {
   "metadata": {},
   "cell_type": "code",
   "source": [
    "data_path = \"data/train/audio_transformed\"\n",
    "train_dataset = SpectrogramDataset(data_path, set_type=SpectrogramDataset.TRAIN, augmentation=True, augmented_fraction=augmented_fraction, use_unknown=False)\n",
    "val_dataset = SpectrogramDataset(data_path, set_type=SpectrogramDataset.VAL, use_unknown=False)\n",
    "test_dataset = SpectrogramDataset(data_path, set_type=SpectrogramDataset.TEST, use_unknown=False)\n",
    "\n",
    "# without oversampling \n",
    "train_loader = DataLoader(train_dataset, batch_size=batch_size, shuffle=True, num_workers=n_workers, pin_memory=True, prefetch_factor=prefetch_factor,persistent_workers=persistent_workers, worker_init_fn=worker_init_fn)\n",
    "val_loader = DataLoader(val_dataset, batch_size=batch_size, shuffle=False, num_workers=n_workers, pin_memory=True, prefetch_factor=prefetch_factor, persistent_workers=persistent_workers)\n",
    "test_loader = DataLoader(test_dataset, batch_size=batch_size, shuffle=False, num_workers=n_workers, pin_memory=True, prefetch_factor=prefetch_factor, persistent_workers=persistent_workers)"
   ],
   "id": "29911de221c8fab5",
   "outputs": [],
   "execution_count": null
  },
  {
   "metadata": {
    "jupyter": {
     "is_executing": true
    }
   },
   "cell_type": "code",
   "source": [
    "def init_transformer_without_unknown():\n",
    "    return SpeechTransformer(num_classes=10, dropout=dropout, d_model=d_model, nhead=nhead, num_layers=num_layers)\n",
    "\n",
    "set_seed(SEED)\n",
    "\n",
    "model_dir = f\"output/models/without_unknown/final/transformer\"\n",
    "history_dir = f\"output/history/without_unknown/final/transformer\"\n",
    "\n",
    "os.makedirs(model_dir, exist_ok=True)\n",
    "os.makedirs(history_dir, exist_ok=True)\n",
    "\n",
    "model_path = model_dir + \"/transformer.pth\"\n",
    "history_path = history_dir + \"/transformer.pkl\"\n",
    "\n",
    "repeat_training(repetitions, init_transformer_without_unknown, lr, model_path, history_path, epochs, train_loader, val_loader, test_loader, device, tolerance=tolerance, weight_decay=weight_decay, label_smoothing=label_smoothing)"
   ],
   "id": "a9dffa6da9c25e1c",
   "outputs": [],
   "execution_count": null
  },
  {
   "metadata": {},
   "cell_type": "markdown",
   "source": "## Binary case",
   "id": "1ebf97026bef2eac"
  },
  {
   "metadata": {},
   "cell_type": "code",
   "source": [
    "data_path = \"data/train/audio_transformed\"\n",
    "train_dataset = BinaryDataset(data_path, set_type=SpectrogramDataset.TRAIN, augmentation=True, augmented_fraction=augmented_fraction)\n",
    "val_dataset = BinaryDataset(data_path, set_type=SpectrogramDataset.VAL)\n",
    "test_dataset = BinaryDataset(data_path, set_type=SpectrogramDataset.TEST)\n",
    "\n",
    "sampler = create_sampler(train_dataset, alpha)\n",
    "train_loader = DataLoader(train_dataset, sampler=sampler, batch_size=batch_size, shuffle=False, num_workers=n_workers, pin_memory=True, prefetch_factor=prefetch_factor,persistent_workers=persistent_workers, worker_init_fn=worker_init_fn)\n",
    "\n",
    "val_loader = DataLoader(val_dataset, batch_size=batch_size, shuffle=False, num_workers=n_workers, pin_memory=True, prefetch_factor=prefetch_factor, persistent_workers=persistent_workers)\n",
    "test_loader = DataLoader(test_dataset, batch_size=batch_size, shuffle=False, num_workers=n_workers, pin_memory=True, prefetch_factor=prefetch_factor, persistent_workers=persistent_workers)"
   ],
   "id": "5bcce5201aff1c1e",
   "outputs": [],
   "execution_count": null
  },
  {
   "metadata": {},
   "cell_type": "code",
   "source": [
    "def init_transformer_binary():\n",
    "     return SpeechTransformer(num_classes=2, dropout=dropout, d_model=d_model, nhead=nhead, num_layers=num_layers)\n",
    "\n",
    "set_seed(SEED)\n",
    "\n",
    "model_dir = f\"output/models/binary/final/transformer\"\n",
    "history_dir = f\"output/history/binary/final/transformer\"\n",
    "\n",
    "os.makedirs(model_dir, exist_ok=True)\n",
    "os.makedirs(history_dir, exist_ok=True)\n",
    "\n",
    "model_path = model_dir + \"/transformer.pth\"\n",
    "history_path = history_dir + \"/transformer.pkl\"\n",
    "\n",
    "repeat_training(repetitions, init_transformer_binary, lr, model_path, history_path, epochs, train_loader, val_loader, test_loader, device, tolerance=tolerance, weight_decay=weight_decay, label_smoothing=label_smoothing)"
   ],
   "id": "67e2b9fd11465195",
   "outputs": [],
   "execution_count": null
  }
 ],
 "metadata": {
  "kernelspec": {
   "display_name": "Python 3",
   "language": "python",
   "name": "python3"
  },
  "language_info": {
   "codemirror_mode": {
    "name": "ipython",
    "version": 2
   },
   "file_extension": ".py",
   "mimetype": "text/x-python",
   "name": "python",
   "nbconvert_exporter": "python",
   "pygments_lexer": "ipython2",
   "version": "2.7.6"
  }
 },
 "nbformat": 4,
 "nbformat_minor": 5
}
