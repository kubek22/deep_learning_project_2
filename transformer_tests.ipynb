{
 "cells": [
  {
   "cell_type": "code",
   "id": "initial_id",
   "metadata": {
    "collapsed": true,
    "ExecuteTime": {
     "end_time": "2025-04-13T15:09:10.440028Z",
     "start_time": "2025-04-13T15:09:09.199518Z"
    }
   },
   "source": [
    "%load_ext autoreload\n",
    "%autoreload 2\n",
    "from transformer import SpeechTransformer\n",
    "import os\n",
    "import torch\n",
    "import random\n",
    "import numpy as np\n",
    "from torch.utils.data import DataLoader\n",
    "from custom_dataset import SpectrogramDataset, BinaryDataset, create_sampler\n",
    "from training_pipeline import repeat_training, set_seed, worker_init_fn\n",
    "from collections import Counter\n",
    "from sklearn.metrics import confusion_matrix\n",
    "import seaborn as sns\n",
    "import matplotlib.pyplot as plt"
   ],
   "outputs": [],
   "execution_count": 1
  },
  {
   "metadata": {
    "ExecuteTime": {
     "end_time": "2025-04-13T15:09:10.463761Z",
     "start_time": "2025-04-13T15:09:10.441336Z"
    }
   },
   "cell_type": "code",
   "source": [
    "SEED = 42\n",
    "set_seed(SEED)"
   ],
   "id": "ea549278b089ff19",
   "outputs": [],
   "execution_count": 2
  },
  {
   "metadata": {
    "ExecuteTime": {
     "end_time": "2025-04-13T15:09:27.313029Z",
     "start_time": "2025-04-13T15:09:10.504418Z"
    }
   },
   "cell_type": "code",
   "source": [
    "data_path = \"data/train/audio_transformed\"\n",
    "train_dataset = SpectrogramDataset(data_path, set_type=SpectrogramDataset.TRAIN, augmentation=True)\n",
    "val_dataset = SpectrogramDataset(data_path, set_type=SpectrogramDataset.VAL)\n",
    "test_dataset = SpectrogramDataset(data_path, set_type=SpectrogramDataset.TEST)\n",
    "\n",
    "# train_dataset = BinaryDataset(data_path, set_type=SpectrogramDataset.TRAIN)\n",
    "# val_dataset = BinaryDataset(data_path, set_type=SpectrogramDataset.VAL)\n",
    "# test_dataset = BinaryDataset(data_path, set_type=SpectrogramDataset.TEST)\n",
    "\n",
    "batch_size = 512\n",
    "n_workers = 4\n",
    "prefetch_factor = 2 if n_workers > 0 else None\n",
    "persistent_workers = True if n_workers > 0 else False\n",
    "\n",
    "train_loader = DataLoader(train_dataset, batch_size=batch_size, shuffle=True, num_workers=n_workers, pin_memory=True, prefetch_factor=prefetch_factor, persistent_workers=persistent_workers)\n",
    "val_loader = DataLoader(val_dataset, batch_size=batch_size, shuffle=False, num_workers=n_workers, pin_memory=True, prefetch_factor=prefetch_factor, persistent_workers=persistent_workers)\n",
    "test_loader = DataLoader(test_dataset, batch_size=batch_size, shuffle=False, num_workers=n_workers, pin_memory=True, prefetch_factor=prefetch_factor, persistent_workers=persistent_workers)"
   ],
   "id": "4700a23d971078ab",
   "outputs": [],
   "execution_count": 3
  },
  {
   "metadata": {
    "ExecuteTime": {
     "end_time": "2025-04-13T15:09:27.530905Z",
     "start_time": "2025-04-13T15:09:27.505077Z"
    }
   },
   "cell_type": "code",
   "source": [
    "alpha = 1\n",
    "sampler = create_sampler(train_dataset, alpha=alpha)\n",
    "train_loader = DataLoader(train_dataset, sampler=sampler, batch_size=batch_size, shuffle=False, num_workers=n_workers, pin_memory=True, prefetch_factor=prefetch_factor,persistent_workers=persistent_workers, worker_init_fn=worker_init_fn)"
   ],
   "id": "36be0e255d586f04",
   "outputs": [],
   "execution_count": 4
  },
  {
   "metadata": {
    "ExecuteTime": {
     "end_time": "2025-04-13T15:27:02.087570Z",
     "start_time": "2025-04-13T15:09:27.542169Z"
    }
   },
   "cell_type": "code",
   "source": [
    "dropout = 0.3\n",
    "def init_transformer_1():\n",
    "    return SpeechTransformer(nhead=4, num_layers=4, num_classes=11, dropout=dropout) # or 2\n",
    "\n",
    "repetitions = 1\n",
    "lr = 0.001\n",
    "epochs = 100\n",
    "tolerance = 10\n",
    "device = torch.device('cuda' if torch.cuda.is_available() else 'cpu')\n",
    "\n",
    "model_dir = \"output/models/transformer\"\n",
    "history_dir = \"output/history/transformer\"\n",
    "\n",
    "os.makedirs(model_dir, exist_ok=True)\n",
    "os.makedirs(history_dir, exist_ok=True)\n",
    "\n",
    "model_path = model_dir + \"/transformer.pth\"\n",
    "history_path = history_dir + \"/transformer.pkl\"\n",
    "\n",
    "repeat_training(repetitions, init_transformer_1, lr, model_path, history_path, epochs, train_loader, val_loader, test_loader, device, tolerance=tolerance)"
   ],
   "id": "67ef37774cf7e0",
   "outputs": [
    {
     "name": "stdout",
     "output_type": "stream",
     "text": [
      "training iteration: 1 of 1\n",
      "starting training...\n",
      "epoch: 1, training loss: 0.0047488396084872375, training accuracy: 9.13521766363921, training balanced accuracy: 9.126157668245598\n",
      "epoch: 1, validation loss: 0.0049900788003888405, validation accuracy: 3.971756398940865, validation balanced accuracy: 9.090909090909092\n",
      "model saved\n",
      "\n",
      "epoch: 2, training loss: 0.004643825758709416, training accuracy: 12.431490761039775, training balanced accuracy: 12.488066706515122\n",
      "epoch: 2, validation loss: 0.0053586032889316485, validation accuracy: 4.280670785525155, validation balanced accuracy: 10.173259451276694\n",
      "\n",
      "epoch: 3, training loss: 0.004503852263387004, training accuracy: 15.74342311305982, training balanced accuracy: 15.701887459630203\n",
      "epoch: 3, validation loss: 0.0051004236394708805, validation accuracy: 7.0609002647837595, validation balanced accuracy: 17.041881253982954\n",
      "\n",
      "epoch: 4, training loss: 0.004418023012291478, training accuracy: 17.814359536486062, training balanced accuracy: 17.832339411802963\n",
      "epoch: 4, validation loss: 0.00471110251343366, validation accuracy: 10.606060606060606, validation balanced accuracy: 19.043676479859336\n",
      "model saved\n",
      "\n",
      "epoch: 5, training loss: 0.004350585788908402, training accuracy: 18.79697776385844, training balanced accuracy: 18.92155842497181\n",
      "epoch: 5, validation loss: 0.005034416554499529, validation accuracy: 9.752868490732569, validation balanced accuracy: 23.253020831287905\n",
      "\n",
      "epoch: 6, training loss: 0.004221484471069322, training accuracy: 20.989273410585657, training balanced accuracy: 21.048847038664576\n",
      "epoch: 6, validation loss: 0.004842597707365148, validation accuracy: 11.782877316857899, validation balanced accuracy: 25.943822848979448\n",
      "\n",
      "epoch: 7, training loss: 0.004005270444540405, training accuracy: 25.84364234262449, training balanced accuracy: 25.88403515906968\n",
      "epoch: 7, validation loss: 0.004998288248594665, validation accuracy: 12.488967343336276, validation balanced accuracy: 27.14515608505989\n",
      "\n",
      "epoch: 8, training loss: 0.003804905737338677, training accuracy: 31.01119636705293, training balanced accuracy: 30.997400643816924\n",
      "epoch: 8, validation loss: 0.004887334140969501, validation accuracy: 15.725213298028832, validation balanced accuracy: 30.957409942815396\n",
      "\n",
      "epoch: 9, training loss: 0.0036333178768253537, training accuracy: 35.15698402756029, training balanced accuracy: 35.10820109929217\n",
      "epoch: 9, validation loss: 0.004493273595179765, validation accuracy: 18.623124448367168, validation balanced accuracy: 31.788289642671142\n",
      "model saved\n",
      "\n",
      "epoch: 10, training loss: 0.0034142709029456346, training accuracy: 39.80386783589101, training balanced accuracy: 39.750385060114716\n",
      "epoch: 10, validation loss: 0.004791370259554606, validation accuracy: 20.197116799058545, validation balanced accuracy: 37.267450346002505\n",
      "\n",
      "epoch: 11, training loss: 0.0032383816003463428, training accuracy: 43.260648293141244, training balanced accuracy: 43.33246017643688\n",
      "epoch: 11, validation loss: 0.004643687415592949, validation accuracy: 20.667843483377464, validation balanced accuracy: 41.33203146601731\n",
      "\n",
      "epoch: 12, training loss: 0.003037526550204859, training accuracy: 46.63717507046665, training balanced accuracy: 46.603319323961436\n",
      "epoch: 12, validation loss: 0.0046525694721409345, validation accuracy: 23.977640482494852, validation balanced accuracy: 41.27018978710879\n",
      "\n",
      "epoch: 13, training loss: 0.0029058187938654943, training accuracy: 49.365800187911056, training balanced accuracy: 49.31019200988986\n",
      "epoch: 13, validation loss: 0.004977393480005177, validation accuracy: 22.653721682847895, validation balanced accuracy: 42.375558202154025\n",
      "\n",
      "epoch: 14, training loss: 0.0027666815602962326, training accuracy: 51.628562480425934, training balanced accuracy: 51.632255430436224\n",
      "epoch: 14, validation loss: 0.004088575014404495, validation accuracy: 33.73050897322742, validation balanced accuracy: 44.74306154179381\n",
      "model saved\n",
      "\n",
      "epoch: 15, training loss: 0.0026610166235773534, training accuracy: 53.80911368618854, training balanced accuracy: 53.86715972288344\n",
      "epoch: 15, validation loss: 0.0044723377749652645, validation accuracy: 29.89114445425125, validation balanced accuracy: 46.5676911078242\n",
      "\n",
      "epoch: 16, training loss: 0.0025545544490670844, training accuracy: 55.86047604134043, training balanced accuracy: 55.83765328059099\n",
      "epoch: 16, validation loss: 0.003934339762926452, validation accuracy: 36.01059135039718, validation balanced accuracy: 48.12813614113175\n",
      "model saved\n",
      "\n",
      "epoch: 17, training loss: 0.0024981925615762566, training accuracy: 56.5631850923896, training balanced accuracy: 56.46873019804492\n",
      "epoch: 17, validation loss: 0.004500639494744144, validation accuracy: 30.714916151809355, validation balanced accuracy: 48.34852403357095\n",
      "\n",
      "epoch: 18, training loss: 0.002413169191225621, training accuracy: 58.050814281240214, training balanced accuracy: 58.00897118885457\n",
      "epoch: 18, validation loss: 0.004206793769102442, validation accuracy: 33.75992939099735, validation balanced accuracy: 50.48082398821771\n",
      "\n",
      "epoch: 19, training loss: 0.0023440677372781305, training accuracy: 59.47972126526777, training balanced accuracy: 59.39243042996303\n",
      "epoch: 19, validation loss: 0.0038727684279125066, validation accuracy: 38.658428949691086, validation balanced accuracy: 49.11544042961372\n",
      "model saved\n",
      "\n",
      "epoch: 20, training loss: 0.0022819312298107478, training accuracy: 60.43885061071093, training balanced accuracy: 60.294572012922565\n",
      "epoch: 20, validation loss: 0.004215430831095512, validation accuracy: 37.18740806119447, validation balanced accuracy: 52.13531731259192\n",
      "\n",
      "epoch: 21, training loss: 0.0022014449445330684, training accuracy: 61.752270591919824, training balanced accuracy: 61.72322732153815\n",
      "epoch: 21, validation loss: 0.004553580063165865, validation accuracy: 34.53957046190056, validation balanced accuracy: 52.3858059740276\n",
      "\n",
      "epoch: 22, training loss: 0.002161238693701896, training accuracy: 62.5, training balanced accuracy: 62.36979440491943\n",
      "epoch: 22, validation loss: 0.003997507902691384, validation accuracy: 38.07002059429244, validation balanced accuracy: 52.15229394157376\n",
      "\n",
      "epoch: 23, training loss: 0.0021029177351950703, training accuracy: 63.60397745067335, training balanced accuracy: 63.56814642614006\n",
      "epoch: 23, validation loss: 0.003925508963917942, validation accuracy: 39.55575169167402, validation balanced accuracy: 53.884262434534094\n",
      "\n",
      "epoch: 24, training loss: 0.002066465895628802, training accuracy: 64.39085499530222, training balanced accuracy: 64.38106406473749\n",
      "epoch: 24, validation loss: 0.003977698099967415, validation accuracy: 39.09973521624007, validation balanced accuracy: 53.68804280717859\n",
      "\n",
      "epoch: 25, training loss: 0.0020098701408765847, training accuracy: 65.39108988412151, training balanced accuracy: 65.3383984889408\n",
      "epoch: 25, validation loss: 0.0037747913334221657, validation accuracy: 42.33598117093263, validation balanced accuracy: 52.2805186197972\n",
      "model saved\n",
      "\n",
      "epoch: 26, training loss: 0.0019606026808296367, training accuracy: 66.21907297212653, training balanced accuracy: 66.20537548122556\n",
      "epoch: 26, validation loss: 0.003749358913554062, validation accuracy: 43.73345101500441, validation balanced accuracy: 53.99340553581409\n",
      "model saved\n",
      "\n",
      "epoch: 27, training loss: 0.0019127366614591877, training accuracy: 67.1175227059192, training balanced accuracy: 67.24846407755192\n",
      "epoch: 27, validation loss: 0.004055031189745964, validation accuracy: 39.98234774933804, validation balanced accuracy: 55.1123021531904\n",
      "\n",
      "epoch: 28, training loss: 0.0018801106915293238, training accuracy: 67.7321484497338, training balanced accuracy: 67.76134538810905\n",
      "epoch: 28, validation loss: 0.004358241227697926, validation accuracy: 37.231538687849365, validation balanced accuracy: 52.9531331250396\n",
      "\n",
      "epoch: 29, training loss: 0.0018427661625038969, training accuracy: 68.03946132164108, training balanced accuracy: 68.05178228400086\n",
      "epoch: 29, validation loss: 0.00404507949374009, validation accuracy: 40.305972344807294, validation balanced accuracy: 54.64578613023697\n",
      "\n",
      "epoch: 30, training loss: 0.0017921508625593076, training accuracy: 69.29415909802694, training balanced accuracy: 69.28844777780938\n",
      "epoch: 30, validation loss: 0.0036670236631013535, validation accuracy: 44.91026772580171, validation balanced accuracy: 54.82590136554199\n",
      "model saved\n",
      "\n",
      "epoch: 31, training loss: 0.0017674796404582448, training accuracy: 69.68955527716881, training balanced accuracy: 69.71091439191292\n",
      "epoch: 31, validation loss: 0.00405624462387498, validation accuracy: 42.52721388643719, validation balanced accuracy: 56.56088879662536\n",
      "\n",
      "epoch: 32, training loss: 0.0017573050302918563, training accuracy: 69.9635922330097, training balanced accuracy: 69.96370601565988\n",
      "epoch: 32, validation loss: 0.0035975013069630933, validation accuracy: 45.77817005001471, validation balanced accuracy: 56.78231879352066\n",
      "model saved\n",
      "\n",
      "epoch: 33, training loss: 0.001697985716152445, training accuracy: 71.19088631381146, training balanced accuracy: 71.12719570372278\n",
      "epoch: 33, validation loss: 0.0038278485333509186, validation accuracy: 43.880553103854076, validation balanced accuracy: 54.07467885863596\n",
      "\n",
      "epoch: 34, training loss: 0.00166031043665035, training accuracy: 71.62543062950203, training balanced accuracy: 71.64164364378468\n",
      "epoch: 34, validation loss: 0.003853195483069379, validation accuracy: 44.43954104148279, validation balanced accuracy: 53.50188759499903\n",
      "\n",
      "epoch: 35, training loss: 0.0016395222014145832, training accuracy: 71.88380833072345, training balanced accuracy: 71.88583120061142\n",
      "epoch: 35, validation loss: 0.003945122364164276, validation accuracy: 42.55663430420712, validation balanced accuracy: 57.224933155663294\n",
      "\n",
      "epoch: 36, training loss: 0.0015875453259498395, training accuracy: 72.93297839022863, training balanced accuracy: 72.95131643883933\n",
      "epoch: 36, validation loss: 0.004187801561835374, validation accuracy: 42.07119741100323, validation balanced accuracy: 55.94629686282615\n",
      "\n",
      "epoch: 37, training loss: 0.0015689289372914866, training accuracy: 73.32054494206076, training balanced accuracy: 73.33848319473891\n",
      "epoch: 37, validation loss: 0.004015134043046817, validation accuracy: 44.336569579288025, validation balanced accuracy: 54.92904027149399\n",
      "\n",
      "epoch: 38, training loss: 0.001551303376682567, training accuracy: 73.65526150955215, training balanced accuracy: 73.6575564694131\n",
      "epoch: 38, validation loss: 0.003938450659678662, validation accuracy: 45.67519858781995, validation balanced accuracy: 56.646482676457985\n",
      "\n",
      "epoch: 39, training loss: 0.0015616334445081531, training accuracy: 73.30292828061384, training balanced accuracy: 73.29760640282178\n",
      "epoch: 39, validation loss: 0.003726270697544027, validation accuracy: 46.27831715210356, validation balanced accuracy: 58.06342367510676\n",
      "\n",
      "epoch: 40, training loss: 0.0015152915040508841, training accuracy: 74.24639837143752, training balanced accuracy: 74.30308585957133\n",
      "epoch: 40, validation loss: 0.0042300385634805844, validation accuracy: 41.98293615769344, validation balanced accuracy: 57.748602650852845\n",
      "\n",
      "epoch: 41, training loss: 0.0014723307411386194, training accuracy: 74.8434074538052, training balanced accuracy: 74.88259110524749\n",
      "epoch: 41, validation loss: 0.0042192800741540784, validation accuracy: 43.85113268608414, validation balanced accuracy: 54.90110754306993\n",
      "\n",
      "epoch: 42, training loss: 0.0014485945249010767, training accuracy: 75.34841841528343, training balanced accuracy: 75.35113311995535\n",
      "epoch: 42, validation loss: 0.003984319178207231, validation accuracy: 44.79258605472198, validation balanced accuracy: 57.600550500539605\n",
      "\n",
      "epoch: 43, training loss: 0.0014605876449186378, training accuracy: 75.24859066708424, training balanced accuracy: 75.26241897058685\n",
      "epoch: 43, validation loss: 0.004216182912297374, validation accuracy: 43.52750809061489, validation balanced accuracy: 56.529018232048514\n",
      "Training stopped. Tolerance 10 exceeded\n",
      "training finished\n",
      "\n",
      "{'loss_train': [0.0047488396084872375, 0.004643825758709416, 0.004503852263387004, 0.004418023012291478, 0.004350585788908402, 0.004221484471069322, 0.004005270444540405, 0.003804905737338677, 0.0036333178768253537, 0.0034142709029456346, 0.0032383816003463428, 0.003037526550204859, 0.0029058187938654943, 0.0027666815602962326, 0.0026610166235773534, 0.0025545544490670844, 0.0024981925615762566, 0.002413169191225621, 0.0023440677372781305, 0.0022819312298107478, 0.0022014449445330684, 0.002161238693701896, 0.0021029177351950703, 0.002066465895628802, 0.0020098701408765847, 0.0019606026808296367, 0.0019127366614591877, 0.0018801106915293238, 0.0018427661625038969, 0.0017921508625593076, 0.0017674796404582448, 0.0017573050302918563, 0.001697985716152445, 0.00166031043665035, 0.0016395222014145832, 0.0015875453259498395, 0.0015689289372914866, 0.001551303376682567, 0.0015616334445081531, 0.0015152915040508841, 0.0014723307411386194, 0.0014485945249010767, 0.0014605876449186378], 'accuracy_train': [9.13521766363921, 12.431490761039775, 15.74342311305982, 17.814359536486062, 18.79697776385844, 20.989273410585657, 25.84364234262449, 31.01119636705293, 35.15698402756029, 39.80386783589101, 43.260648293141244, 46.63717507046665, 49.365800187911056, 51.628562480425934, 53.80911368618854, 55.86047604134043, 56.5631850923896, 58.050814281240214, 59.47972126526777, 60.43885061071093, 61.752270591919824, 62.5, 63.60397745067335, 64.39085499530222, 65.39108988412151, 66.21907297212653, 67.1175227059192, 67.7321484497338, 68.03946132164108, 69.29415909802694, 69.68955527716881, 69.9635922330097, 71.19088631381146, 71.62543062950203, 71.88380833072345, 72.93297839022863, 73.32054494206076, 73.65526150955215, 73.30292828061384, 74.24639837143752, 74.8434074538052, 75.34841841528343, 75.24859066708424], 'balanced_accuracy_train': [9.126157668245598, 12.488066706515122, 15.701887459630203, 17.832339411802963, 18.92155842497181, 21.048847038664576, 25.88403515906968, 30.997400643816924, 35.10820109929217, 39.750385060114716, 43.33246017643688, 46.603319323961436, 49.31019200988986, 51.632255430436224, 53.86715972288344, 55.83765328059099, 56.46873019804492, 58.00897118885457, 59.39243042996303, 60.294572012922565, 61.72322732153815, 62.36979440491943, 63.56814642614006, 64.38106406473749, 65.3383984889408, 66.20537548122556, 67.24846407755192, 67.76134538810905, 68.05178228400086, 69.28844777780938, 69.71091439191292, 69.96370601565988, 71.12719570372278, 71.64164364378468, 71.88583120061142, 72.95131643883933, 73.33848319473891, 73.6575564694131, 73.29760640282178, 74.30308585957133, 74.88259110524749, 75.35113311995535, 75.26241897058685], 'loss_val': [0.0049900788003888405, 0.0053586032889316485, 0.0051004236394708805, 0.00471110251343366, 0.005034416554499529, 0.004842597707365148, 0.004998288248594665, 0.004887334140969501, 0.004493273595179765, 0.004791370259554606, 0.004643687415592949, 0.0046525694721409345, 0.004977393480005177, 0.004088575014404495, 0.0044723377749652645, 0.003934339762926452, 0.004500639494744144, 0.004206793769102442, 0.0038727684279125066, 0.004215430831095512, 0.004553580063165865, 0.003997507902691384, 0.003925508963917942, 0.003977698099967415, 0.0037747913334221657, 0.003749358913554062, 0.004055031189745964, 0.004358241227697926, 0.00404507949374009, 0.0036670236631013535, 0.00405624462387498, 0.0035975013069630933, 0.0038278485333509186, 0.003853195483069379, 0.003945122364164276, 0.004187801561835374, 0.004015134043046817, 0.003938450659678662, 0.003726270697544027, 0.0042300385634805844, 0.0042192800741540784, 0.003984319178207231, 0.004216182912297374], 'accuracy_val': [3.971756398940865, 4.280670785525155, 7.0609002647837595, 10.606060606060606, 9.752868490732569, 11.782877316857899, 12.488967343336276, 15.725213298028832, 18.623124448367168, 20.197116799058545, 20.667843483377464, 23.977640482494852, 22.653721682847895, 33.73050897322742, 29.89114445425125, 36.01059135039718, 30.714916151809355, 33.75992939099735, 38.658428949691086, 37.18740806119447, 34.53957046190056, 38.07002059429244, 39.55575169167402, 39.09973521624007, 42.33598117093263, 43.73345101500441, 39.98234774933804, 37.231538687849365, 40.305972344807294, 44.91026772580171, 42.52721388643719, 45.77817005001471, 43.880553103854076, 44.43954104148279, 42.55663430420712, 42.07119741100323, 44.336569579288025, 45.67519858781995, 46.27831715210356, 41.98293615769344, 43.85113268608414, 44.79258605472198, 43.52750809061489], 'last_save': 32}\n",
      "training time: 1047.8028037548065\n",
      "\n",
      "evaluating model...\n",
      "test loss: 0.003781502736949014, test accuracy: 43.262618873445504, test balanced accuracy: 54.60534331717307\n",
      "training history saved\n",
      "\n"
     ]
    }
   ],
   "execution_count": 5
  },
  {
   "metadata": {
    "ExecuteTime": {
     "end_time": "2025-04-13T15:32:30.754094Z",
     "start_time": "2025-04-13T15:32:30.668928Z"
    }
   },
   "cell_type": "code",
   "source": [
    "best_model = init_transformer_1()\n",
    "best_model.to(device)\n",
    "best_model.load_state_dict(torch.load(\"output/models/transformer/transformer_1.pth\", weights_only=True))"
   ],
   "id": "530f4a5299bf8e0c",
   "outputs": [
    {
     "data": {
      "text/plain": [
       "<All keys matched successfully>"
      ]
     },
     "execution_count": 6,
     "metadata": {},
     "output_type": "execute_result"
    }
   ],
   "execution_count": 6
  },
  {
   "metadata": {
    "ExecuteTime": {
     "end_time": "2025-04-13T15:32:32.785927Z",
     "start_time": "2025-04-13T15:32:31.500599Z"
    }
   },
   "cell_type": "code",
   "source": [
    "all_preds = []\n",
    "best_model.eval()\n",
    "with torch.no_grad():\n",
    "    for x, y in test_loader:\n",
    "        x, y = x.to(device), y.to(device)\n",
    "        output = best_model(x)\n",
    "        _, predicted = torch.max(output, 1)\n",
    "        # print(predicted)\n",
    "        all_preds.extend(predicted.cpu().tolist())\n",
    "\n",
    "pred_counts = Counter(all_preds)\n",
    "sorted_pred_counts = dict(sorted(pred_counts.items()))\n",
    "print(sorted_pred_counts)"
   ],
   "id": "89797be3fd84eda6",
   "outputs": [
    {
     "name": "stdout",
     "output_type": "stream",
     "text": [
      "{0: 515, 1: 665, 2: 516, 3: 575, 4: 329, 5: 737, 6: 628, 7: 394, 8: 476, 9: 352, 10: 1648}\n"
     ]
    }
   ],
   "execution_count": 7
  },
  {
   "metadata": {
    "ExecuteTime": {
     "end_time": "2025-04-13T15:32:34.683789Z",
     "start_time": "2025-04-13T15:32:33.530167Z"
    }
   },
   "cell_type": "code",
   "source": [
    "true_labels = []\n",
    "predictions = []\n",
    "\n",
    "with torch.no_grad():\n",
    "    for x, y in test_loader:\n",
    "        x, y = x.to(device), y.to(device)\n",
    "        output = best_model(x)\n",
    "        _, predicted = torch.max(output, 1)\n",
    "        \n",
    "        true_labels.extend(y.cpu().tolist())\n",
    "        predictions.extend(predicted.cpu().tolist())\n",
    "\n",
    "unique_labels = np.unique(true_labels)\n",
    "cm = confusion_matrix(true_labels, predictions, labels=unique_labels)\n",
    "\n",
    "sns.heatmap(cm, annot=True, fmt=\"d\", cmap=\"Blues\")\n",
    "plt.xlabel('Predicted')\n",
    "plt.ylabel('True')\n",
    "plt.title('Confusion Matrix')\n",
    "plt.show()"
   ],
   "id": "8b034fc61aa32020",
   "outputs": [
    {
     "data": {
      "text/plain": [
       "<Figure size 640x480 with 2 Axes>"
      ],
      "image/png": "[encoded data removed]"
     },
     "metadata": {},
     "output_type": "display_data"
    }
   ],
   "execution_count": 8
  },
  {
   "metadata": {
    "ExecuteTime": {
     "end_time": "2025-04-12T14:40:03.854767Z",
     "start_time": "2025-04-12T14:40:03.825075Z"
    }
   },
   "cell_type": "code",
   "source": "unique_labels",
   "id": "baf2e4fef1c74f49",
   "outputs": [
    {
     "data": {
      "text/plain": [
       "array([ 0,  1,  2,  3,  4,  5,  6,  7,  8,  9, 10])"
      ]
     },
     "execution_count": 10,
     "metadata": {},
     "output_type": "execute_result"
    }
   ],
   "execution_count": 10
  },
  {
   "metadata": {
    "ExecuteTime": {
     "end_time": "2025-04-12T14:40:04.909841Z",
     "start_time": "2025-04-12T14:40:04.879993Z"
    }
   },
   "cell_type": "code",
   "source": "test_dataset.label_map",
   "id": "600ae779818055cf",
   "outputs": [
    {
     "data": {
      "text/plain": [
       "{'unknown': 10,\n",
       " 'down': 0,\n",
       " 'go': 1,\n",
       " 'left': 2,\n",
       " 'no': 3,\n",
       " 'off': 4,\n",
       " 'on': 5,\n",
       " 'right': 6,\n",
       " 'stop': 7,\n",
       " 'up': 8,\n",
       " 'yes': 9}"
      ]
     },
     "execution_count": 11,
     "metadata": {},
     "output_type": "execute_result"
    }
   ],
   "execution_count": 11
  },
  {
   "metadata": {},
   "cell_type": "code",
   "outputs": [],
   "execution_count": null,
   "source": "",
   "id": "8245ab4df815289e"
  }
 ],
 "metadata": {
  "kernelspec": {
   "display_name": "Python 3",
   "language": "python",
   "name": "python3"
  },
  "language_info": {
   "codemirror_mode": {
    "name": "ipython",
    "version": 2
   },
   "file_extension": ".py",
   "mimetype": "text/x-python",
   "name": "python",
   "nbconvert_exporter": "python",
   "pygments_lexer": "ipython2",
   "version": "2.7.6"
  }
 },
 "nbformat": 4,
 "nbformat_minor": 5
}
