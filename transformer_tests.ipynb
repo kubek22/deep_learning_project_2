{
 "cells": [
  {
   "cell_type": "code",
   "id": "initial_id",
   "metadata": {
    "collapsed": true,
    "ExecuteTime": {
     "end_time": "2025-04-09T18:33:11.616665Z",
     "start_time": "2025-04-09T18:33:10.450398Z"
    }
   },
   "source": [
    "from transformer import SpeechTransformer\n",
    "import os\n",
    "import torch\n",
    "import random\n",
    "import numpy as np\n",
    "from torch.utils.data import DataLoader\n",
    "from custom_dataset import SpectrogramDataset\n",
    "from training_pipeline import repeat_training"
   ],
   "outputs": [],
   "execution_count": 1
  },
  {
   "metadata": {
    "ExecuteTime": {
     "end_time": "2025-04-09T18:33:11.623499Z",
     "start_time": "2025-04-09T18:33:11.616665Z"
    }
   },
   "cell_type": "code",
   "source": [
    "SEED = 42\n",
    "\n",
    "random.seed(SEED)\n",
    "np.random.seed(SEED)\n",
    "torch.manual_seed(SEED)\n",
    "torch.cuda.manual_seed(SEED)"
   ],
   "id": "ea549278b089ff19",
   "outputs": [],
   "execution_count": 2
  },
  {
   "metadata": {
    "ExecuteTime": {
     "end_time": "2025-04-09T18:35:24.348116Z",
     "start_time": "2025-04-09T18:35:08.383795Z"
    }
   },
   "cell_type": "code",
   "source": [
    "data_path = \"data/train/audio_transformed\"\n",
    "train_dataset = SpectrogramDataset(data_path, set_type=SpectrogramDataset.TRAIN)\n",
    "val_dataset = SpectrogramDataset(data_path, set_type=SpectrogramDataset.VAL)\n",
    "test_dataset = SpectrogramDataset(data_path, set_type=SpectrogramDataset.TEST)\n",
    "\n",
    "batch_size = 512\n",
    "n_workers = 4\n",
    "prefetch_factor = 2 if n_workers > 0 else None\n",
    "persistent_workers = True if n_workers > 0 else False\n",
    "\n",
    "train_loader = DataLoader(train_dataset, batch_size=batch_size, shuffle=True, num_workers=n_workers, pin_memory=True, prefetch_factor=prefetch_factor, persistent_workers=persistent_workers)\n",
    "val_loader = DataLoader(val_dataset, batch_size=batch_size, shuffle=False, num_workers=n_workers, pin_memory=True, prefetch_factor=prefetch_factor, persistent_workers=persistent_workers)\n",
    "test_loader = DataLoader(test_dataset, batch_size=batch_size, shuffle=False, num_workers=n_workers, pin_memory=True, prefetch_factor=prefetch_factor, persistent_workers=persistent_workers)"
   ],
   "id": "4700a23d971078ab",
   "outputs": [],
   "execution_count": 9
  },
  {
   "metadata": {
    "ExecuteTime": {
     "end_time": "2025-04-09T18:39:58.657132Z",
     "start_time": "2025-04-09T18:35:24.348116Z"
    }
   },
   "cell_type": "code",
   "source": [
    "repetitions = 4\n",
    "lr = 0.001\n",
    "epochs = 10\n",
    "device = torch.device('cuda' if torch.cuda.is_available() else 'cpu')\n",
    "\n",
    "model_dir = \"output/models/transformer\"\n",
    "history_dir = \"output/history/transformer\"\n",
    "\n",
    "os.makedirs(model_dir, exist_ok=True)\n",
    "os.makedirs(history_dir, exist_ok=True)\n",
    "\n",
    "model_path = model_dir + \"/transformer.pth\"\n",
    "history_path = history_dir + \"/transformer.pkl\"\n",
    "\n",
    "repeat_training(repetitions, SpeechTransformer, lr, model_path, history_path, epochs, train_loader, val_loader, test_loader, device)"
   ],
   "id": "67ef37774cf7e0",
   "outputs": [
    {
     "name": "stdout",
     "output_type": "stream",
     "text": [
      "training iteration: 1 of 4\n",
      "starting training...\n",
      "epoch: 1, training loss: 0.0029692551931392577, training accuracy: 63.14594425305356\n",
      "epoch: 1, validation loss: 0.003057063743800898, validation accuracy: 62.09179170344219\n",
      "model saved\n",
      "\n",
      "epoch: 2, training loss: 0.002922780541111002, training accuracy: 63.713592233009706\n",
      "epoch: 2, validation loss: 0.003053391723290511, validation accuracy: 62.09179170344219\n",
      "model saved\n",
      "\n",
      "epoch: 3, training loss: 0.002924942224517796, training accuracy: 63.713592233009706\n",
      "epoch: 3, validation loss: 0.003064874437985332, validation accuracy: 62.09179170344219\n",
      "\n",
      "epoch: 4, training loss: 0.0029233512793855163, training accuracy: 63.713592233009706\n",
      "epoch: 4, validation loss: 0.0030574091841943755, validation accuracy: 62.09179170344219\n",
      "\n",
      "epoch: 5, training loss: 0.0028905911768375052, training accuracy: 63.713592233009706\n",
      "epoch: 5, validation loss: 0.0029639611615262054, validation accuracy: 62.09179170344219\n",
      "model saved\n",
      "\n",
      "epoch: 6, training loss: 0.0028435956141883737, training accuracy: 63.713592233009706\n",
      "epoch: 6, validation loss: 0.0029219695183065717, validation accuracy: 62.09179170344219\n",
      "model saved\n",
      "\n",
      "epoch: 7, training loss: 0.0028465974771450056, training accuracy: 63.70967741935484\n",
      "epoch: 7, validation loss: 0.0029735900472633698, validation accuracy: 62.07708149455722\n",
      "\n",
      "epoch: 8, training loss: 0.0028537553803621323, training accuracy: 63.70380519887254\n",
      "epoch: 8, validation loss: 0.0028896250245009285, validation accuracy: 62.09179170344219\n",
      "model saved\n",
      "\n",
      "epoch: 9, training loss: 0.002884989681939813, training accuracy: 63.713592233009706\n",
      "epoch: 9, validation loss: 0.0029993334231077835, validation accuracy: 62.09179170344219\n",
      "\n",
      "epoch: 10, training loss: 0.002865887195982606, training accuracy: 63.713592233009706\n",
      "epoch: 10, validation loss: 0.002960048889931457, validation accuracy: 62.09179170344219\n",
      "\n",
      "training finished\n",
      "\n",
      "{'loss_train': [0.0029692551931392577, 0.002922780541111002, 0.002924942224517796, 0.0029233512793855163, 0.0028905911768375052, 0.0028435956141883737, 0.0028465974771450056, 0.0028537553803621323, 0.002884989681939813, 0.002865887195982606], 'accuracy_train': [63.14594425305356, 63.713592233009706, 63.713592233009706, 63.713592233009706, 63.713592233009706, 63.713592233009706, 63.70967741935484, 63.70380519887254, 63.713592233009706, 63.713592233009706], 'loss_val': [0.003057063743800898, 0.003053391723290511, 0.003064874437985332, 0.0030574091841943755, 0.0029639611615262054, 0.0029219695183065717, 0.0029735900472633698, 0.0028896250245009285, 0.0029993334231077835, 0.002960048889931457], 'accuracy_val': [62.09179170344219, 62.09179170344219, 62.09179170344219, 62.09179170344219, 62.09179170344219, 62.09179170344219, 62.07708149455722, 62.09179170344219, 62.09179170344219, 62.09179170344219], 'last_save': 8}\n",
      "training time: 254.07719445228577\n",
      "\n",
      "evaluating model...\n",
      "test loss: 0.002896788988831973, test accuracy: 62.44330651060717\n",
      "training history saved\n",
      "\n",
      "training iteration: 2 of 4\n",
      "starting training...\n"
     ]
    },
    {
     "ename": "KeyboardInterrupt",
     "evalue": "",
     "output_type": "error",
     "traceback": [
      "\u001B[1;31m---------------------------------------------------------------------------\u001B[0m",
      "\u001B[1;31mKeyboardInterrupt\u001B[0m                         Traceback (most recent call last)",
      "Cell \u001B[1;32mIn[10], line 15\u001B[0m\n\u001B[0;32m     12\u001B[0m model_path \u001B[38;5;241m=\u001B[39m model_dir \u001B[38;5;241m+\u001B[39m \u001B[38;5;124m\"\u001B[39m\u001B[38;5;124m/transformer.pth\u001B[39m\u001B[38;5;124m\"\u001B[39m\n\u001B[0;32m     13\u001B[0m history_path \u001B[38;5;241m=\u001B[39m history_dir \u001B[38;5;241m+\u001B[39m \u001B[38;5;124m\"\u001B[39m\u001B[38;5;124m/transformer.pkl\u001B[39m\u001B[38;5;124m\"\u001B[39m\n\u001B[1;32m---> 15\u001B[0m repeat_training(repetitions, SpeechTransformer, lr, model_path, history_path, epochs, train_loader, val_loader, test_loader, device)\n",
      "File \u001B[1;32mD:\\Studia\\semestr8\\deep_learning_project_2\\training_pipeline.py:37\u001B[0m, in \u001B[0;36mrepeat_training\u001B[1;34m(n, init_model, lr, model_path, history_path, epochs, train_dataloader, val_dataloader, test_dataloader, device, dropout, betas, weight_decay, tolerance)\u001B[0m\n\u001B[0;32m     35\u001B[0m start_time \u001B[38;5;241m=\u001B[39m time\u001B[38;5;241m.\u001B[39mtime()\n\u001B[0;32m     36\u001B[0m \u001B[38;5;28mprint\u001B[39m(\u001B[38;5;124m\"\u001B[39m\u001B[38;5;124mstarting training...\u001B[39m\u001B[38;5;124m\"\u001B[39m)\n\u001B[1;32m---> 37\u001B[0m training_history \u001B[38;5;241m=\u001B[39m train(epochs, model, train_dataloader, val_dataloader, optimizer, criterion, device,\n\u001B[0;32m     38\u001B[0m                          model_path_idx, tolerance)\n\u001B[0;32m     39\u001B[0m \u001B[38;5;28mprint\u001B[39m(\u001B[38;5;124m\"\u001B[39m\u001B[38;5;124mtraining finished\u001B[39m\u001B[38;5;130;01m\\n\u001B[39;00m\u001B[38;5;124m\"\u001B[39m)\n\u001B[0;32m     40\u001B[0m \u001B[38;5;28mprint\u001B[39m(training_history)\n",
      "File \u001B[1;32mD:\\Studia\\semestr8\\deep_learning_project_2\\training_functions.py:58\u001B[0m, in \u001B[0;36mtrain\u001B[1;34m(epochs, model, train_dataloader, val_dataloader, optimizer, criterion, device, model_path, tolerance)\u001B[0m\n\u001B[0;32m     55\u001B[0m epochs_without_improvement \u001B[38;5;241m=\u001B[39m \u001B[38;5;241m0\u001B[39m\n\u001B[0;32m     57\u001B[0m \u001B[38;5;28;01mfor\u001B[39;00m epoch \u001B[38;5;129;01min\u001B[39;00m \u001B[38;5;28mrange\u001B[39m(epochs):\n\u001B[1;32m---> 58\u001B[0m     train_accuracy, train_avg_loss \u001B[38;5;241m=\u001B[39m training_epoch(model, train_dataloader, optimizer, criterion, device)\n\u001B[0;32m     59\u001B[0m     train_accuracy_list\u001B[38;5;241m.\u001B[39mappend(train_accuracy)\n\u001B[0;32m     60\u001B[0m     train_loss_list\u001B[38;5;241m.\u001B[39mappend(train_avg_loss)\n",
      "File \u001B[1;32mD:\\Studia\\semestr8\\deep_learning_project_2\\training_functions.py:18\u001B[0m, in \u001B[0;36mtraining_epoch\u001B[1;34m(model, dataloader, optimizer, criterion, device)\u001B[0m\n\u001B[0;32m     15\u001B[0m loss\u001B[38;5;241m.\u001B[39mbackward()\n\u001B[0;32m     16\u001B[0m optimizer\u001B[38;5;241m.\u001B[39mstep()\n\u001B[1;32m---> 18\u001B[0m epoch_loss \u001B[38;5;241m+\u001B[39m\u001B[38;5;241m=\u001B[39m loss\u001B[38;5;241m.\u001B[39mitem()\n\u001B[0;32m     19\u001B[0m _, predicted \u001B[38;5;241m=\u001B[39m output\u001B[38;5;241m.\u001B[39mmax(\u001B[38;5;241m1\u001B[39m)\n\u001B[0;32m     20\u001B[0m correct \u001B[38;5;241m+\u001B[39m\u001B[38;5;241m=\u001B[39m predicted\u001B[38;5;241m.\u001B[39meq(y)\u001B[38;5;241m.\u001B[39msum()\u001B[38;5;241m.\u001B[39mitem()\n",
      "\u001B[1;31mKeyboardInterrupt\u001B[0m: "
     ]
    }
   ],
   "execution_count": 10
  },
  {
   "metadata": {},
   "cell_type": "code",
   "outputs": [],
   "execution_count": null,
   "source": "",
   "id": "5248dd24bd77b096"
  }
 ],
 "metadata": {
  "kernelspec": {
   "display_name": "Python 3",
   "language": "python",
   "name": "python3"
  },
  "language_info": {
   "codemirror_mode": {
    "name": "ipython",
    "version": 2
   },
   "file_extension": ".py",
   "mimetype": "text/x-python",
   "name": "python",
   "nbconvert_exporter": "python",
   "pygments_lexer": "ipython2",
   "version": "2.7.6"
  }
 },
 "nbformat": 4,
 "nbformat_minor": 5
}
