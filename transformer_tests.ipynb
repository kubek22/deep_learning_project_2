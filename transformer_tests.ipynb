{
 "cells": [
  {
   "cell_type": "code",
   "id": "initial_id",
   "metadata": {
    "collapsed": true,
    "ExecuteTime": {
     "end_time": "2025-04-12T14:19:45.437257Z",
     "start_time": "2025-04-12T14:19:44.173419Z"
    }
   },
   "source": [
    "%load_ext autoreload\n",
    "%autoreload 2\n",
    "from transformer import SpeechTransformer\n",
    "import os\n",
    "import torch\n",
    "import random\n",
    "import numpy as np\n",
    "from torch.utils.data import DataLoader\n",
    "from custom_dataset import SpectrogramDataset, BinaryDataset, create_sampler\n",
    "from training_pipeline import repeat_training\n",
    "from torch.utils.data import WeightedRandomSampler\n",
    "from collections import Counter\n",
    "from sklearn.metrics import confusion_matrix\n",
    "import seaborn as sns\n",
    "import matplotlib.pyplot as plt"
   ],
   "outputs": [],
   "execution_count": 1
  },
  {
   "metadata": {
    "ExecuteTime": {
     "end_time": "2025-04-12T14:19:45.460961Z",
     "start_time": "2025-04-12T14:19:45.439262Z"
    }
   },
   "cell_type": "code",
   "source": [
    "def set_seed(seed):\n",
    "    random.seed(seed)\n",
    "    np.random.seed(seed)\n",
    "    torch.manual_seed(seed)\n",
    "    torch.cuda.manual_seed(seed)\n",
    "\n",
    "SEED = 42\n",
    "set_seed(SEED)"
   ],
   "id": "ea549278b089ff19",
   "outputs": [],
   "execution_count": 2
  },
  {
   "metadata": {
    "ExecuteTime": {
     "end_time": "2025-04-12T14:20:02.463139Z",
     "start_time": "2025-04-12T14:19:45.501855Z"
    }
   },
   "cell_type": "code",
   "source": [
    "data_path = \"data/train/audio_transformed\"\n",
    "train_dataset = SpectrogramDataset(data_path, set_type=SpectrogramDataset.TRAIN, augmentation=True)\n",
    "val_dataset = SpectrogramDataset(data_path, set_type=SpectrogramDataset.VAL)\n",
    "test_dataset = SpectrogramDataset(data_path, set_type=SpectrogramDataset.TEST)\n",
    "\n",
    "# train_dataset = BinaryDataset(data_path, set_type=SpectrogramDataset.TRAIN)\n",
    "# val_dataset = BinaryDataset(data_path, set_type=SpectrogramDataset.VAL)\n",
    "# test_dataset = BinaryDataset(data_path, set_type=SpectrogramDataset.TEST)\n",
    "\n",
    "batch_size = 512\n",
    "n_workers = 4\n",
    "prefetch_factor = 2 if n_workers > 0 else None\n",
    "persistent_workers = True if n_workers > 0 else False\n",
    "\n",
    "train_loader = DataLoader(train_dataset, batch_size=batch_size, shuffle=True, num_workers=n_workers, pin_memory=True, prefetch_factor=prefetch_factor, persistent_workers=persistent_workers)\n",
    "val_loader = DataLoader(val_dataset, batch_size=batch_size, shuffle=False, num_workers=n_workers, pin_memory=True, prefetch_factor=prefetch_factor, persistent_workers=persistent_workers)\n",
    "test_loader = DataLoader(test_dataset, batch_size=batch_size, shuffle=False, num_workers=n_workers, pin_memory=True, prefetch_factor=prefetch_factor, persistent_workers=persistent_workers)"
   ],
   "id": "4700a23d971078ab",
   "outputs": [],
   "execution_count": 3
  },
  {
   "metadata": {
    "ExecuteTime": {
     "end_time": "2025-04-12T14:20:04.337523Z",
     "start_time": "2025-04-12T14:20:04.311082Z"
    }
   },
   "cell_type": "code",
   "source": [
    "sampler = create_sampler(train_dataset)\n",
    "train_loader = DataLoader(train_dataset, sampler=sampler, batch_size=batch_size, shuffle=False, num_workers=n_workers, pin_memory=True, prefetch_factor=prefetch_factor,persistent_workers=persistent_workers)"
   ],
   "id": "36be0e255d586f04",
   "outputs": [],
   "execution_count": 4
  },
  {
   "metadata": {
    "ExecuteTime": {
     "end_time": "2025-04-12T14:35:20.443149Z",
     "start_time": "2025-04-12T14:20:08.533964Z"
    }
   },
   "cell_type": "code",
   "source": [
    "def init_transformer_1():\n",
    "    return SpeechTransformer(nhead=4, num_layers=4, num_classes=11) # or 2\n",
    "\n",
    "repetitions = 1\n",
    "lr = 0.001\n",
    "epochs = 100\n",
    "tolerance = 10\n",
    "device = torch.device('cuda' if torch.cuda.is_available() else 'cpu')\n",
    "\n",
    "model_dir = \"output/models/transformer\"\n",
    "history_dir = \"output/history/transformer\"\n",
    "\n",
    "os.makedirs(model_dir, exist_ok=True)\n",
    "os.makedirs(history_dir, exist_ok=True)\n",
    "\n",
    "model_path = model_dir + \"/transformer.pth\"\n",
    "history_path = history_dir + \"/transformer.pkl\"\n",
    "\n",
    "repeat_training(repetitions, init_transformer_1, lr, model_path, history_path, epochs, train_loader, val_loader, test_loader, device, tolerance=tolerance)"
   ],
   "id": "67ef37774cf7e0",
   "outputs": [
    {
     "name": "stdout",
     "output_type": "stream",
     "text": [
      "training iteration: 1 of 1\n",
      "starting training...\n",
      "epoch: 1, training loss: 0.0047515520631725644, training accuracy: 9.340745380519888\n",
      "epoch: 1, validation loss: 0.004936380083331573, validation accuracy: 3.971756398940865\n",
      "model saved\n",
      "\n",
      "epoch: 2, training loss: 0.004598266660065775, training accuracy: 13.582445975571563\n",
      "epoch: 2, validation loss: 0.0051942758259965445, validation accuracy: 6.148867313915858\n",
      "\n",
      "epoch: 3, training loss: 0.0044391515708216076, training accuracy: 17.34458189790166\n",
      "epoch: 3, validation loss: 0.004935441980925894, validation accuracy: 7.399235069137982\n",
      "model saved\n",
      "\n",
      "epoch: 4, training loss: 0.0043780927817873025, training accuracy: 18.53468524898215\n",
      "epoch: 4, validation loss: 0.004447383472378656, validation accuracy: 18.946749043836423\n",
      "model saved\n",
      "\n",
      "epoch: 5, training loss: 0.004171548638174312, training accuracy: 22.839022862511744\n",
      "epoch: 5, validation loss: 0.004618429934217426, validation accuracy: 12.900853192115328\n",
      "\n",
      "epoch: 6, training loss: 0.003856834599376658, training accuracy: 29.977685562167242\n",
      "epoch: 6, validation loss: 0.0048796364264335305, validation accuracy: 13.533392174168874\n",
      "\n",
      "epoch: 7, training loss: 0.003597195758701603, training accuracy: 35.93015972439712\n",
      "epoch: 7, validation loss: 0.004676512196752106, validation accuracy: 17.063842306560755\n",
      "\n",
      "epoch: 8, training loss: 0.0033094283068512364, training accuracy: 42.05880050109615\n",
      "epoch: 8, validation loss: 0.004492385294830915, validation accuracy: 20.962047661076788\n",
      "\n",
      "epoch: 9, training loss: 0.003064844819153882, training accuracy: 46.445349201378015\n",
      "epoch: 9, validation loss: 0.003955031482918749, validation accuracy: 27.93468667255075\n",
      "model saved\n",
      "\n",
      "epoch: 10, training loss: 0.0028194244046813076, training accuracy: 51.13725336673974\n",
      "epoch: 10, validation loss: 0.004283662226733898, validation accuracy: 27.493380406001766\n",
      "\n",
      "epoch: 11, training loss: 0.002707525576743966, training accuracy: 53.124021296586285\n",
      "epoch: 11, validation loss: 0.004001125776616921, validation accuracy: 31.288614298323036\n",
      "\n",
      "epoch: 12, training loss: 0.0025516433931240794, training accuracy: 55.89179455057939\n",
      "epoch: 12, validation loss: 0.004233736488951694, validation accuracy: 29.493968814357164\n",
      "\n",
      "epoch: 13, training loss: 0.0024289688299040492, training accuracy: 58.115408706545566\n",
      "epoch: 13, validation loss: 0.004365635500405949, validation accuracy: 29.832303618711386\n",
      "\n",
      "epoch: 14, training loss: 0.002326450938626662, training accuracy: 59.67350454118384\n",
      "epoch: 14, validation loss: 0.0038644390339078395, validation accuracy: 35.64283612827302\n",
      "model saved\n",
      "\n",
      "epoch: 15, training loss: 0.002243676637916254, training accuracy: 61.54674287503915\n",
      "epoch: 15, validation loss: 0.0038103291693067647, validation accuracy: 37.55516328331862\n",
      "model saved\n",
      "\n",
      "epoch: 16, training loss: 0.002133839365562749, training accuracy: 63.185092389602254\n",
      "epoch: 16, validation loss: 0.003936902850331472, validation accuracy: 37.15798764342453\n",
      "\n",
      "epoch: 17, training loss: 0.0020654344125634783, training accuracy: 64.43000313185092\n",
      "epoch: 17, validation loss: 0.004120821109692046, validation accuracy: 34.15710503089144\n",
      "\n",
      "epoch: 18, training loss: 0.0019871943664987596, training accuracy: 65.71406201064829\n",
      "epoch: 18, validation loss: 0.003840893866490462, validation accuracy: 39.305678140629595\n",
      "\n",
      "epoch: 19, training loss: 0.0019248220095375358, training accuracy: 67.02748199185719\n",
      "epoch: 19, validation loss: 0.003871318188510456, validation accuracy: 40.011768167107974\n",
      "\n",
      "epoch: 20, training loss: 0.0018577421340138197, training accuracy: 68.07860945818979\n",
      "epoch: 20, validation loss: 0.0038617246464512987, validation accuracy: 39.27625772285966\n",
      "\n",
      "epoch: 21, training loss: 0.0017766664408420344, training accuracy: 69.53100532414658\n",
      "epoch: 21, validation loss: 0.0043315958471710665, validation accuracy: 35.172109443954106\n",
      "\n",
      "epoch: 22, training loss: 0.0017448589147406612, training accuracy: 70.20435327278422\n",
      "epoch: 22, validation loss: 0.0037642935508487856, validation accuracy: 42.01235657546337\n",
      "model saved\n",
      "\n",
      "epoch: 23, training loss: 0.0016713629506185366, training accuracy: 71.60389915440025\n",
      "epoch: 23, validation loss: 0.003522608342609815, validation accuracy: 44.36598999705796\n",
      "model saved\n",
      "\n",
      "epoch: 24, training loss: 0.0016368006639278238, training accuracy: 72.19112120263075\n",
      "epoch: 24, validation loss: 0.003827104606359066, validation accuracy: 40.967931744630775\n",
      "\n",
      "epoch: 25, training loss: 0.001575545444874565, training accuracy: 73.31467272157845\n",
      "epoch: 25, validation loss: 0.003541013253860945, validation accuracy: 44.02765519270373\n",
      "\n",
      "epoch: 26, training loss: 0.001519594154843633, training accuracy: 74.30903538991544\n",
      "epoch: 26, validation loss: 0.0034770168217184544, validation accuracy: 47.366872609591056\n",
      "model saved\n",
      "\n",
      "epoch: 27, training loss: 0.001475408211271105, training accuracy: 75.12135922330097\n",
      "epoch: 27, validation loss: 0.004223197602145495, validation accuracy: 38.87908208296558\n",
      "\n",
      "epoch: 28, training loss: 0.0014352007902344304, training accuracy: 76.02568117757595\n",
      "epoch: 28, validation loss: 0.0038163036274608355, validation accuracy: 43.54221829949985\n",
      "\n",
      "epoch: 29, training loss: 0.0013947111921664356, training accuracy: 76.59724397118697\n",
      "epoch: 29, validation loss: 0.003911271450203213, validation accuracy: 43.07149161518094\n",
      "\n",
      "epoch: 30, training loss: 0.0013698502206014609, training accuracy: 77.16489195114312\n",
      "epoch: 30, validation loss: 0.0036436841922074283, validation accuracy: 45.30744336569579\n",
      "\n",
      "epoch: 31, training loss: 0.0013320972128531196, training accuracy: 77.8734732226746\n",
      "epoch: 31, validation loss: 0.003984051351864291, validation accuracy: 43.11562224183584\n",
      "\n",
      "epoch: 32, training loss: 0.0013146570743978341, training accuracy: 78.00070466645788\n",
      "epoch: 32, validation loss: 0.003682997287038706, validation accuracy: 45.822300676669606\n",
      "\n",
      "epoch: 33, training loss: 0.0012577655913312347, training accuracy: 78.96374882555591\n",
      "epoch: 33, validation loss: 0.0039195571797284775, validation accuracy: 43.73345101500441\n",
      "\n",
      "epoch: 34, training loss: 0.0012388112209562295, training accuracy: 79.17123394926402\n",
      "epoch: 34, validation loss: 0.003780984569907574, validation accuracy: 46.307737569873495\n",
      "\n",
      "epoch: 35, training loss: 0.001220103677606045, training accuracy: 79.48246163482618\n",
      "epoch: 35, validation loss: 0.0037956662864045347, validation accuracy: 45.58693733451015\n",
      "\n",
      "epoch: 36, training loss: 0.0011586236309247297, training accuracy: 80.80175383651738\n",
      "epoch: 36, validation loss: 0.00400419239087398, validation accuracy: 44.80729626360694\n",
      "\n",
      "epoch: 37, training loss: 0.0011526741708123942, training accuracy: 80.73911681803946\n",
      "epoch: 37, validation loss: 0.00405380558567771, validation accuracy: 44.645483965872316\n",
      "Training stopped. Tolerance 10 exceeded\n",
      "training finished\n",
      "\n",
      "{'loss_train': [0.0047515520631725644, 0.004598266660065775, 0.0044391515708216076, 0.0043780927817873025, 0.004171548638174312, 0.003856834599376658, 0.003597195758701603, 0.0033094283068512364, 0.003064844819153882, 0.0028194244046813076, 0.002707525576743966, 0.0025516433931240794, 0.0024289688299040492, 0.002326450938626662, 0.002243676637916254, 0.002133839365562749, 0.0020654344125634783, 0.0019871943664987596, 0.0019248220095375358, 0.0018577421340138197, 0.0017766664408420344, 0.0017448589147406612, 0.0016713629506185366, 0.0016368006639278238, 0.001575545444874565, 0.001519594154843633, 0.001475408211271105, 0.0014352007902344304, 0.0013947111921664356, 0.0013698502206014609, 0.0013320972128531196, 0.0013146570743978341, 0.0012577655913312347, 0.0012388112209562295, 0.001220103677606045, 0.0011586236309247297, 0.0011526741708123942], 'accuracy_train': [9.340745380519888, 13.582445975571563, 17.34458189790166, 18.53468524898215, 22.839022862511744, 29.977685562167242, 35.93015972439712, 42.05880050109615, 46.445349201378015, 51.13725336673974, 53.124021296586285, 55.89179455057939, 58.115408706545566, 59.67350454118384, 61.54674287503915, 63.185092389602254, 64.43000313185092, 65.71406201064829, 67.02748199185719, 68.07860945818979, 69.53100532414658, 70.20435327278422, 71.60389915440025, 72.19112120263075, 73.31467272157845, 74.30903538991544, 75.12135922330097, 76.02568117757595, 76.59724397118697, 77.16489195114312, 77.8734732226746, 78.00070466645788, 78.96374882555591, 79.17123394926402, 79.48246163482618, 80.80175383651738, 80.73911681803946], 'loss_val': [0.004936380083331573, 0.0051942758259965445, 0.004935441980925894, 0.004447383472378656, 0.004618429934217426, 0.0048796364264335305, 0.004676512196752106, 0.004492385294830915, 0.003955031482918749, 0.004283662226733898, 0.004001125776616921, 0.004233736488951694, 0.004365635500405949, 0.0038644390339078395, 0.0038103291693067647, 0.003936902850331472, 0.004120821109692046, 0.003840893866490462, 0.003871318188510456, 0.0038617246464512987, 0.0043315958471710665, 0.0037642935508487856, 0.003522608342609815, 0.003827104606359066, 0.003541013253860945, 0.0034770168217184544, 0.004223197602145495, 0.0038163036274608355, 0.003911271450203213, 0.0036436841922074283, 0.003984051351864291, 0.003682997287038706, 0.0039195571797284775, 0.003780984569907574, 0.0037956662864045347, 0.00400419239087398, 0.00405380558567771], 'accuracy_val': [3.971756398940865, 6.148867313915858, 7.399235069137982, 18.946749043836423, 12.900853192115328, 13.533392174168874, 17.063842306560755, 20.962047661076788, 27.93468667255075, 27.493380406001766, 31.288614298323036, 29.493968814357164, 29.832303618711386, 35.64283612827302, 37.55516328331862, 37.15798764342453, 34.15710503089144, 39.305678140629595, 40.011768167107974, 39.27625772285966, 35.172109443954106, 42.01235657546337, 44.36598999705796, 40.967931744630775, 44.02765519270373, 47.366872609591056, 38.87908208296558, 43.54221829949985, 43.07149161518094, 45.30744336569579, 43.11562224183584, 45.822300676669606, 43.73345101500441, 46.307737569873495, 45.58693733451015, 44.80729626360694, 44.645483965872316], 'last_save': 26}\n",
      "training time: 905.2448189258575\n",
      "\n",
      "evaluating model...\n",
      "test loss: 0.0036485009238767033, test accuracy: 44.60863204096562\n",
      "training history saved\n",
      "\n"
     ]
    }
   ],
   "execution_count": 6
  },
  {
   "metadata": {
    "ExecuteTime": {
     "end_time": "2025-04-12T14:35:57.924115Z",
     "start_time": "2025-04-12T14:35:57.851219Z"
    }
   },
   "cell_type": "code",
   "source": [
    "best_model = init_transformer_1()\n",
    "best_model.to(device)\n",
    "best_model.load_state_dict(torch.load(\"output/models/transformer/transformer_1.pth\", weights_only=True))"
   ],
   "id": "530f4a5299bf8e0c",
   "outputs": [
    {
     "data": {
      "text/plain": [
       "<All keys matched successfully>"
      ]
     },
     "execution_count": 7,
     "metadata": {},
     "output_type": "execute_result"
    }
   ],
   "execution_count": 7
  },
  {
   "metadata": {
    "ExecuteTime": {
     "end_time": "2025-04-12T14:36:01.049847Z",
     "start_time": "2025-04-12T14:35:59.875260Z"
    }
   },
   "cell_type": "code",
   "source": [
    "all_preds = []\n",
    "best_model.eval()\n",
    "with torch.no_grad():\n",
    "    for x, y in test_loader:\n",
    "        x, y = x.to(device), y.to(device)\n",
    "        output = best_model(x)\n",
    "        _, predicted = torch.max(output, 1)\n",
    "        # print(predicted)\n",
    "        all_preds.extend(predicted.cpu().tolist())\n",
    "\n",
    "pred_counts = Counter(all_preds)\n",
    "sorted_pred_counts = dict(sorted(pred_counts.items()))\n",
    "print(sorted_pred_counts)"
   ],
   "id": "89797be3fd84eda6",
   "outputs": [
    {
     "name": "stdout",
     "output_type": "stream",
     "text": [
      "{0: 415, 1: 645, 2: 421, 3: 438, 4: 501, 5: 607, 6: 574, 7: 249, 8: 525, 9: 468, 10: 1992}\n"
     ]
    }
   ],
   "execution_count": 8
  },
  {
   "metadata": {
    "ExecuteTime": {
     "end_time": "2025-04-12T14:36:10.644990Z",
     "start_time": "2025-04-12T14:36:09.187379Z"
    }
   },
   "cell_type": "code",
   "source": [
    "true_labels = []\n",
    "predictions = []\n",
    "\n",
    "with torch.no_grad():\n",
    "    for x, y in test_loader:\n",
    "        x, y = x.to(device), y.to(device)\n",
    "        output = best_model(x)\n",
    "        _, predicted = torch.max(output, 1)\n",
    "        \n",
    "        true_labels.extend(y.cpu().tolist())\n",
    "        predictions.extend(predicted.cpu().tolist())\n",
    "\n",
    "unique_labels = np.unique(true_labels)\n",
    "cm = confusion_matrix(true_labels, predictions, labels=unique_labels)\n",
    "\n",
    "sns.heatmap(cm, annot=True, fmt=\"d\", cmap=\"Blues\")\n",
    "plt.xlabel('Predicted')\n",
    "plt.ylabel('True')\n",
    "plt.title('Confusion Matrix')\n",
    "plt.show()"
   ],
   "id": "8b034fc61aa32020",
   "outputs": [
    {
     "data": {
      "text/plain": [
       "<Figure size 640x480 with 2 Axes>"
      ],
      "image/png": "[encoded data removed]"
     },
     "metadata": {},
     "output_type": "display_data"
    }
   ],
   "execution_count": 9
  },
  {
   "metadata": {
    "ExecuteTime": {
     "end_time": "2025-04-12T14:40:03.854767Z",
     "start_time": "2025-04-12T14:40:03.825075Z"
    }
   },
   "cell_type": "code",
   "source": "unique_labels",
   "id": "baf2e4fef1c74f49",
   "outputs": [
    {
     "data": {
      "text/plain": [
       "array([ 0,  1,  2,  3,  4,  5,  6,  7,  8,  9, 10])"
      ]
     },
     "execution_count": 10,
     "metadata": {},
     "output_type": "execute_result"
    }
   ],
   "execution_count": 10
  },
  {
   "metadata": {
    "ExecuteTime": {
     "end_time": "2025-04-12T14:40:04.909841Z",
     "start_time": "2025-04-12T14:40:04.879993Z"
    }
   },
   "cell_type": "code",
   "source": "test_dataset.label_map",
   "id": "600ae779818055cf",
   "outputs": [
    {
     "data": {
      "text/plain": [
       "{'unknown': 10,\n",
       " 'down': 0,\n",
       " 'go': 1,\n",
       " 'left': 2,\n",
       " 'no': 3,\n",
       " 'off': 4,\n",
       " 'on': 5,\n",
       " 'right': 6,\n",
       " 'stop': 7,\n",
       " 'up': 8,\n",
       " 'yes': 9}"
      ]
     },
     "execution_count": 11,
     "metadata": {},
     "output_type": "execute_result"
    }
   ],
   "execution_count": 11
  },
  {
   "metadata": {},
   "cell_type": "code",
   "outputs": [],
   "execution_count": null,
   "source": "",
   "id": "8245ab4df815289e"
  }
 ],
 "metadata": {
  "kernelspec": {
   "display_name": "Python 3",
   "language": "python",
   "name": "python3"
  },
  "language_info": {
   "codemirror_mode": {
    "name": "ipython",
    "version": 2
   },
   "file_extension": ".py",
   "mimetype": "text/x-python",
   "name": "python",
   "nbconvert_exporter": "python",
   "pygments_lexer": "ipython2",
   "version": "2.7.6"
  }
 },
 "nbformat": 4,
 "nbformat_minor": 5
}
