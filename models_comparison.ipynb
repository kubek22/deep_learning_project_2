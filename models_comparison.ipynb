{
 "cells": [
  {
   "cell_type": "code",
   "id": "initial_id",
   "metadata": {
    "collapsed": true,
    "ExecuteTime": {
     "end_time": "2025-04-26T18:12:11.734074Z",
     "start_time": "2025-04-26T18:12:11.730326Z"
    }
   },
   "source": [
    "from training_pipeline import repeat_training, set_seed, worker_init_fn, plot_results\n",
    "from torch.utils.data import DataLoader\n",
    "from custom_dataset import SpectrogramDataset, BinaryDataset\n",
    "import torch\n",
    "from sklearn.metrics import balanced_accuracy_score\n",
    "import numpy as np\n",
    "from training_pipeline import add_prefix_to_path\n",
    "from serialization import save\n",
    "import os"
   ],
   "outputs": [],
   "execution_count": 94
  },
  {
   "metadata": {},
   "cell_type": "markdown",
   "source": "## Single models",
   "id": "2abd19f7102f338f"
  },
  {
   "metadata": {
    "ExecuteTime": {
     "end_time": "2025-04-26T17:11:11.621596Z",
     "start_time": "2025-04-26T17:11:11.551467Z"
    }
   },
   "cell_type": "code",
   "source": [
    "all_classes_root_dir = \"output/history/all_classes/final\"\n",
    "models = [\"CNN\", \"Transformer\"]\n",
    "x_label = \"model\"\n",
    "plot_results(all_classes_root_dir, models, x_label, use_balanced_accuracy=True)"
   ],
   "id": "36d17996ceec6dca",
   "outputs": [
    {
     "data": {
      "text/plain": [
       "<Figure size 800x500 with 1 Axes>"
      ],
      "image/png": "[encoded data removed]"
     },
     "metadata": {},
     "output_type": "display_data"
    }
   ],
   "execution_count": 2
  },
  {
   "metadata": {},
   "cell_type": "markdown",
   "source": "## Composite models",
   "id": "361e7f24da7f3d8a"
  },
  {
   "metadata": {
    "ExecuteTime": {
     "end_time": "2025-04-26T17:26:52.331908Z",
     "start_time": "2025-04-26T17:26:41.202387Z"
    }
   },
   "cell_type": "code",
   "source": [
    "data_path = \"data/train/audio_transformed\"\n",
    "\n",
    "device = torch.device(\"cuda\" if torch.cuda.is_available() else \"cpu\")\n",
    "\n",
    "batch_size = 1\n",
    "n_workers = 4\n",
    "prefetch_factor = 2 if n_workers > 0 else None\n",
    "persistent_workers = True if n_workers > 0 else False"
   ],
   "id": "68151257130f65e2",
   "outputs": [],
   "execution_count": 20
  },
  {
   "metadata": {},
   "cell_type": "code",
   "outputs": [],
   "execution_count": null,
   "source": [
    "# all classes\n",
    "test_dataset = SpectrogramDataset(data_path, set_type=SpectrogramDataset.TEST)\n",
    "test_loader = DataLoader(test_dataset, batch_size=batch_size, shuffle=False, num_workers=n_workers, pin_memory=True, prefetch_factor=prefetch_factor, persistent_workers=persistent_workers)\n",
    "\n",
    "# binary\n",
    "# binary_test_dataset = BinaryDataset(data_path, set_type=SpectrogramDataset.TEST)\n",
    "# binary_test_loader = DataLoader(binary_test_dataset, batch_size=batch_size, shuffle=False, num_workers=n_workers, pin_memory=True, prefetch_factor=prefetch_factor, persistent_workers=persistent_workers)"
   ],
   "id": "91a47699d59ddf56"
  },
  {
   "metadata": {
    "ExecuteTime": {
     "end_time": "2025-04-26T17:19:18.339399Z",
     "start_time": "2025-04-26T17:19:12.130938Z"
    }
   },
   "cell_type": "code",
   "source": [
    "# collecting labels\n",
    "X = []\n",
    "labels = []\n",
    "for x, y in test_loader:\n",
    "    X.append(x)\n",
    "    labels.append(y)\n",
    "    \n",
    "# binary_labels = []\n",
    "# for x, y in binary_test_loader:\n",
    "#     binary_labels.append(y)"
   ],
   "id": "c9d8ba99e86b7f8a",
   "outputs": [],
   "execution_count": 9
  },
  {
   "metadata": {
    "ExecuteTime": {
     "end_time": "2025-04-26T18:20:08.130225Z",
     "start_time": "2025-04-26T18:20:08.126446Z"
    }
   },
   "cell_type": "code",
   "source": [
    "from CNN import AudioClassifier\n",
    "from transformer import SpeechTransformer\n",
    "\n",
    "d_model = 128\n",
    "nhead = 8\n",
    "num_layers = 2\n",
    "\n",
    "def init_transformer_binary():\n",
    "    return SpeechTransformer(num_classes=2, d_model=d_model, nhead=nhead, num_layers=num_layers)\n",
    "\n",
    "def init_transformer():\n",
    "    return SpeechTransformer(num_classes=10, d_model=d_model, nhead=nhead, num_layers=num_layers)\n",
    "\n",
    "def init_transformer_all():\n",
    "    return SpeechTransformer(num_classes=11, d_model=d_model, nhead=nhead, num_layers=num_layers)\n",
    "\n",
    "def init_cnn_binary():\n",
    "     return AudioClassifier(num_classes=2)\n",
    "\n",
    "def init_cnn():\n",
    "     return AudioClassifier(num_classes=10)\n",
    "\n",
    "def init_cnn_all():\n",
    "     return AudioClassifier(num_classes=11)"
   ],
   "id": "86b8ec97ea1d4b8b",
   "outputs": [],
   "execution_count": 100
  },
  {
   "metadata": {
    "ExecuteTime": {
     "end_time": "2025-04-26T18:21:58.365410Z",
     "start_time": "2025-04-26T18:21:58.333252Z"
    }
   },
   "cell_type": "code",
   "source": [
    "classification_model = init_cnn_all()\n",
    "classification_model.to(device)\n",
    "# classification_model.load_state_dict(torch.load(classification_model_path, weights_only=True))"
   ],
   "id": "a8d99429c89f8520",
   "outputs": [
    {
     "data": {
      "text/plain": [
       "AudioClassifier(\n",
       "  (conv1): Conv1d(81, 512, kernel_size=(5,), stride=(1,))\n",
       "  (bn1): BatchNorm1d(512, eps=1e-05, momentum=0.1, affine=True, track_running_stats=True)\n",
       "  (drop1): Dropout(p=0.3, inplace=False)\n",
       "  (conv2): Conv1d(512, 512, kernel_size=(3,), stride=(1,))\n",
       "  (bn2): BatchNorm1d(512, eps=1e-05, momentum=0.1, affine=True, track_running_stats=True)\n",
       "  (drop2): Dropout(p=0.3, inplace=False)\n",
       "  (conv3): Conv1d(512, 256, kernel_size=(3,), stride=(1,))\n",
       "  (bn3): BatchNorm1d(256, eps=1e-05, momentum=0.1, affine=True, track_running_stats=True)\n",
       "  (drop3): Dropout(p=0.3, inplace=False)\n",
       "  (bilstm1): LSTM(256, 128, batch_first=True, bidirectional=True)\n",
       "  (drop4): Dropout(p=0.3, inplace=False)\n",
       "  (bn4): BatchNorm1d(256, eps=1e-05, momentum=0.1, affine=True, track_running_stats=True)\n",
       "  (bilstm2): LSTM(256, 128, batch_first=True, bidirectional=True)\n",
       "  (drop5): Dropout(p=0.3, inplace=False)\n",
       "  (bn5): BatchNorm1d(256, eps=1e-05, momentum=0.1, affine=True, track_running_stats=True)\n",
       "  (global_pool): AdaptiveAvgPool1d(output_size=1)\n",
       "  (fc1): Linear(in_features=256, out_features=256, bias=True)\n",
       "  (drop6): Dropout(p=0.3, inplace=False)\n",
       "  (fc2): Linear(in_features=256, out_features=256, bias=True)\n",
       "  (drop7): Dropout(p=0.3, inplace=False)\n",
       "  (fc3): Linear(in_features=256, out_features=128, bias=True)\n",
       "  (drop8): Dropout(p=0.3, inplace=False)\n",
       "  (fc_out): Linear(in_features=128, out_features=11, bias=True)\n",
       ")"
      ]
     },
     "execution_count": 108,
     "metadata": {},
     "output_type": "execute_result"
    }
   ],
   "execution_count": 108
  },
  {
   "metadata": {
    "ExecuteTime": {
     "end_time": "2025-04-26T17:51:39.576323Z",
     "start_time": "2025-04-26T17:51:39.505599Z"
    }
   },
   "cell_type": "code",
   "source": [
    "# loading filtering model\n",
    "filtering_model = init_cnn_binary()\n",
    "filtering_model.to(device)\n",
    "model_path = \"output/models/binary/final/cnn/cnn_1.pth\"\n",
    "filtering_model.load_state_dict(torch.load(model_path, weights_only=True))"
   ],
   "id": "273c60fdb54d7e47",
   "outputs": [
    {
     "data": {
      "text/plain": [
       "<All keys matched successfully>"
      ]
     },
     "execution_count": 76,
     "metadata": {},
     "output_type": "execute_result"
    }
   ],
   "execution_count": 76
  },
  {
   "metadata": {
    "ExecuteTime": {
     "end_time": "2025-04-26T17:51:56.513292Z",
     "start_time": "2025-04-26T17:51:40.094959Z"
    }
   },
   "cell_type": "code",
   "source": [
    "# using filtering model to remove unknown\n",
    "preliminary_prediction = []\n",
    "for x, y in test_loader:\n",
    "    x, y = x.to(device), y.to(device)\n",
    "    filtering_model.eval()\n",
    "    with torch.no_grad():\n",
    "        output = filtering_model(x)\n",
    "        _, predicted = torch.max(output, 1)\n",
    "        preliminary_prediction.append(predicted.cpu())"
   ],
   "id": "df3b3343f74ebd20",
   "outputs": [],
   "execution_count": 77
  },
  {
   "metadata": {
    "ExecuteTime": {
     "end_time": "2025-04-26T17:51:56.543014Z",
     "start_time": "2025-04-26T17:51:56.515296Z"
    }
   },
   "cell_type": "code",
   "source": [
    "# mapping unknown\n",
    "prediction = preliminary_prediction.copy()\n",
    "for i in range(len(prediction)):\n",
    "    if preliminary_prediction[i] == 1:\n",
    "        prediction[i] = torch.tensor([10])"
   ],
   "id": "b9010080984ad8d7",
   "outputs": [],
   "execution_count": 78
  },
  {
   "metadata": {
    "ExecuteTime": {
     "end_time": "2025-04-26T17:51:56.585332Z",
     "start_time": "2025-04-26T17:51:56.562701Z"
    }
   },
   "cell_type": "code",
   "source": [
    "# loading classification model\n",
    "classification_model = init_cnn()\n",
    "classification_model.to(device)\n",
    "model_path = \"output/models/without_unknown/final/cnn/cnn_1.pth\"\n",
    "classification_model.load_state_dict(torch.load(model_path, weights_only=True))"
   ],
   "id": "4b68cef291dc7a96",
   "outputs": [
    {
     "data": {
      "text/plain": [
       "<All keys matched successfully>"
      ]
     },
     "execution_count": 79,
     "metadata": {},
     "output_type": "execute_result"
    }
   ],
   "execution_count": 79
  },
  {
   "metadata": {
    "ExecuteTime": {
     "end_time": "2025-04-26T17:52:03.756728Z",
     "start_time": "2025-04-26T17:51:56.673157Z"
    }
   },
   "cell_type": "code",
   "source": [
    "# final prediction\n",
    "i = -1\n",
    "for x, y in test_loader:\n",
    "    i += 1\n",
    "    x, y = x.to(device), y.to(device)\n",
    "    if prediction[i] == 10:\n",
    "        continue # the observation was filtered out by the first model\n",
    "    classification_model.eval()\n",
    "    with torch.no_grad():\n",
    "        output = classification_model(x)\n",
    "        _, predicted = torch.max(output, 1)\n",
    "        prediction[i] = predicted.cpu()        "
   ],
   "id": "f4a6eb07a2976d9a",
   "outputs": [],
   "execution_count": 80
  },
  {
   "metadata": {
    "ExecuteTime": {
     "end_time": "2025-04-26T17:52:03.868744Z",
     "start_time": "2025-04-26T17:52:03.775177Z"
    }
   },
   "cell_type": "code",
   "source": "balanced_accuracy_score(labels, prediction)",
   "id": "2b851c118df71789",
   "outputs": [
    {
     "data": {
      "text/plain": [
       "0.746305944310821"
      ]
     },
     "execution_count": 81,
     "metadata": {},
     "output_type": "execute_result"
    }
   ],
   "execution_count": 81
  },
  {
   "metadata": {
    "ExecuteTime": {
     "end_time": "2025-04-26T18:12:29.622366Z",
     "start_time": "2025-04-26T18:12:29.618117Z"
    }
   },
   "cell_type": "code",
   "source": [
    "def assess_model(test_loader, init_filtering_model, filtering_model_path, init_classification_model, classification_model_path):\n",
    "    # extracting labels\n",
    "    true_labels = []\n",
    "    for x, y in test_loader:\n",
    "        true_labels.append(y)\n",
    "    \n",
    "    # loading filtering model\n",
    "    filtering_model = init_filtering_model()\n",
    "    filtering_model.to(device)\n",
    "    filtering_model.load_state_dict(torch.load(filtering_model_path, weights_only=True))\n",
    "    \n",
    "    # using filtering model to remove unknown\n",
    "    preliminary_prediction = []\n",
    "    for x, y in test_loader:\n",
    "        x, y = x.to(device), y.to(device)\n",
    "        filtering_model.eval()\n",
    "        with torch.no_grad():\n",
    "            output = filtering_model(x)\n",
    "            _, predicted = torch.max(output, 1)\n",
    "            preliminary_prediction.append(predicted.cpu())\n",
    "            \n",
    "    # mapping unknown\n",
    "    prediction = preliminary_prediction.copy()\n",
    "    for i in range(len(prediction)):\n",
    "        if preliminary_prediction[i] == 1:\n",
    "            prediction[i] = torch.tensor([10])\n",
    "            \n",
    "    # loading classification model\n",
    "    classification_model = init_classification_model()\n",
    "    classification_model.to(device)\n",
    "    classification_model.load_state_dict(torch.load(classification_model_path, weights_only=True))\n",
    "    \n",
    "    # final prediction\n",
    "    i = -1\n",
    "    for x, y in test_loader:\n",
    "        i += 1\n",
    "        x, y = x.to(device), y.to(device)\n",
    "        if prediction[i] == 10:\n",
    "            continue # the observation was filtered out by the first model\n",
    "        classification_model.eval()\n",
    "        with torch.no_grad():\n",
    "            output = classification_model(x)\n",
    "            _, predicted = torch.max(output, 1)\n",
    "            prediction[i] = predicted.cpu()\n",
    "                \n",
    "    return balanced_accuracy_score(true_labels, prediction)"
   ],
   "id": "524c4a0961bb0845",
   "outputs": [],
   "execution_count": 95
  },
  {
   "metadata": {
    "ExecuteTime": {
     "end_time": "2025-04-26T18:12:29.949527Z",
     "start_time": "2025-04-26T18:12:29.943883Z"
    }
   },
   "cell_type": "code",
   "source": [
    "def assess_models(history_path, test_loader, init_filtering_model, filtering_model_path, init_classification_model, classification_model_path):\n",
    "    # results = []\n",
    "    for i in range(4):\n",
    "        filtering_model_path_idx = add_prefix_to_path(filtering_model_path, i+1)\n",
    "        classification_model_path_idx = add_prefix_to_path(classification_model_path, i+1)\n",
    "        history_path_idx = add_prefix_to_path(history_path, i+1) # for saving results\n",
    "        \n",
    "        res = assess_model(test_loader, init_filtering_model, filtering_model_path_idx, init_classification_model, classification_model_path_idx)\n",
    "        # results.append(res)\n",
    "        \n",
    "        training_history = {}\n",
    "        training_history[\"accuracy_test\"] = None\n",
    "        training_history[\"loss_test\"] = None\n",
    "        training_history[\"balanced_accuracy_test\"] = res\n",
    "\n",
    "        save(training_history, history_path_idx)\n",
    "    # return results"
   ],
   "id": "8da974e019fc6c7d",
   "outputs": [],
   "execution_count": 96
  },
  {
   "metadata": {},
   "cell_type": "markdown",
   "source": "## CNN - CNN",
   "id": "a6f223f66f3bd4d7"
  },
  {
   "metadata": {
    "ExecuteTime": {
     "end_time": "2025-04-26T18:14:09.731287Z",
     "start_time": "2025-04-26T18:12:31.004867Z"
    }
   },
   "cell_type": "code",
   "source": [
    "history_dir = \"output/history/ensemble/final/cnnbin_cnnwo\"\n",
    "os.makedirs(history_dir, exist_ok=True)\n",
    "history_path = history_dir + \"/history.pkl\"\n",
    "\n",
    "filtering_model_path = \"output/models/binary/final/cnn/cnn.pth\"\n",
    "classification_model_path = \"output/models/without_unknown/final/cnn/cnn.pth\"\n",
    "assess_models(history_path, test_loader, init_cnn_binary, filtering_model_path, init_cnn, classification_model_path)"
   ],
   "id": "ba9b64705c30e918",
   "outputs": [],
   "execution_count": 97
  },
  {
   "metadata": {},
   "cell_type": "markdown",
   "source": "# CNN - CNN full",
   "id": "a0a726a4d31f2a40"
  },
  {
   "metadata": {
    "ExecuteTime": {
     "end_time": "2025-04-26T18:24:12.810139Z",
     "start_time": "2025-04-26T18:22:32.266324Z"
    }
   },
   "cell_type": "code",
   "source": [
    "history_dir = \"output/history/ensemble/final/cnnbin_cnnfull\"\n",
    "os.makedirs(history_dir, exist_ok=True)\n",
    "history_path = history_dir + \"/history.pkl\"\n",
    "\n",
    "filtering_model_path = \"output/models/binary/final/cnn/cnn.pth\"\n",
    "classification_model_path = \"output/models/all_classes/final/cnn/cnn.pth\"\n",
    "assess_models(history_path, test_loader, init_cnn_binary, filtering_model_path, init_cnn_all, classification_model_path)"
   ],
   "id": "ecb0299799625dd",
   "outputs": [],
   "execution_count": 109
  },
  {
   "metadata": {},
   "cell_type": "markdown",
   "source": "## CNN - TR",
   "id": "386f4a9c97605a2e"
  },
  {
   "metadata": {
    "ExecuteTime": {
     "end_time": "2025-04-26T18:25:38.511785Z",
     "start_time": "2025-04-26T18:24:15.088388Z"
    }
   },
   "cell_type": "code",
   "source": [
    "history_dir = \"output/history/ensemble/final/cnnbin_trwo\"\n",
    "os.makedirs(history_dir, exist_ok=True)\n",
    "history_path = history_dir + \"/history.pkl\"\n",
    "\n",
    "filtering_model_path = \"output/models/binary/final/cnn/cnn.pth\"\n",
    "classification_model_path = \"output/models/without_unknown/final/transformer/transformer.pth\"\n",
    "assess_models(history_path, test_loader, init_cnn_binary, filtering_model_path, init_transformer, classification_model_path)"
   ],
   "id": "d3622aa24b658378",
   "outputs": [],
   "execution_count": 110
  },
  {
   "metadata": {},
   "cell_type": "markdown",
   "source": "## CNN - TR full",
   "id": "3026d1412710dcd4"
  },
  {
   "metadata": {
    "ExecuteTime": {
     "end_time": "2025-04-26T18:27:04.976658Z",
     "start_time": "2025-04-26T18:25:42.753339Z"
    }
   },
   "cell_type": "code",
   "source": [
    "history_dir = \"output/history/ensemble/final/cnnbin_trfull\"\n",
    "os.makedirs(history_dir, exist_ok=True)\n",
    "history_path = history_dir + \"/history.pkl\"\n",
    "\n",
    "filtering_model_path = \"output/models/binary/final/cnn/cnn.pth\"\n",
    "classification_model_path = \"output/models/all_classes/final/transformer/transformer.pth\"\n",
    "assess_models(history_path, test_loader, init_cnn_binary, filtering_model_path, init_transformer_all, classification_model_path)"
   ],
   "id": "a29c0eb10c4811f3",
   "outputs": [],
   "execution_count": 111
  },
  {
   "metadata": {},
   "cell_type": "markdown",
   "source": "## CNN full - CNN full?",
   "id": "160644547a40931"
  },
  {
   "metadata": {
    "ExecuteTime": {
     "end_time": "2025-04-26T18:28:57.355673Z",
     "start_time": "2025-04-26T18:27:11.598152Z"
    }
   },
   "cell_type": "code",
   "source": [
    "history_dir = \"output/history/ensemble/final/cnnfull_cnnfull\"\n",
    "os.makedirs(history_dir, exist_ok=True)\n",
    "history_path = history_dir + \"/history.pkl\"\n",
    "\n",
    "filtering_model_path = \"output/models/all_classes/final/cnn/cnn.pth\"\n",
    "classification_model_path = \"output/models/all_classes/final/cnn/cnn.pth\"\n",
    "assess_models(history_path, test_loader, init_cnn_all, filtering_model_path, init_cnn_all, classification_model_path)"
   ],
   "id": "34c135ccd012c08d",
   "outputs": [],
   "execution_count": 112
  },
  {
   "metadata": {},
   "cell_type": "markdown",
   "source": "## TR - TR",
   "id": "df926176d676b758"
  },
  {
   "metadata": {
    "ExecuteTime": {
     "end_time": "2025-04-26T18:29:51.023674Z",
     "start_time": "2025-04-26T18:28:57.357676Z"
    }
   },
   "cell_type": "code",
   "source": [
    "history_dir = \"output/history/ensemble/final/trbin_trwo\"\n",
    "os.makedirs(history_dir, exist_ok=True)\n",
    "history_path = history_dir + \"/history.pkl\"\n",
    "\n",
    "filtering_model_path = \"output/models/binary/final/transformer/transformer.pth\"\n",
    "classification_model_path = \"output/models/without_unknown/final/transformer/transformer.pth\"\n",
    "assess_models(history_path, test_loader, init_transformer_binary, filtering_model_path, init_transformer, classification_model_path)"
   ],
   "id": "5c0eaba2b84f68fa",
   "outputs": [],
   "execution_count": 113
  },
  {
   "metadata": {},
   "cell_type": "markdown",
   "source": "## TR - TR full",
   "id": "a92b7196cb50acef"
  },
  {
   "metadata": {
    "ExecuteTime": {
     "end_time": "2025-04-26T18:30:41.333368Z",
     "start_time": "2025-04-26T18:29:51.046521Z"
    }
   },
   "cell_type": "code",
   "source": [
    "history_dir = \"output/history/ensemble/final/trbin_trfull\"\n",
    "os.makedirs(history_dir, exist_ok=True)\n",
    "history_path = history_dir + \"/history.pkl\"\n",
    "\n",
    "filtering_model_path = \"output/models/binary/final/transformer/transformer.pth\"\n",
    "classification_model_path = \"output/models/all_classes/final/transformer/transformer.pth\"\n",
    "assess_models(history_path, test_loader, init_transformer_binary, filtering_model_path, init_transformer_all, classification_model_path)"
   ],
   "id": "84df2d5387c3e188",
   "outputs": [],
   "execution_count": 114
  },
  {
   "metadata": {},
   "cell_type": "markdown",
   "source": "## TR - CNN",
   "id": "f05ce859dd2fa502"
  },
  {
   "metadata": {
    "ExecuteTime": {
     "end_time": "2025-04-26T18:32:06.884878Z",
     "start_time": "2025-04-26T18:30:41.357050Z"
    }
   },
   "cell_type": "code",
   "source": [
    "history_dir = \"output/history/ensemble/final/trbin_cnnwo\"\n",
    "os.makedirs(history_dir, exist_ok=True)\n",
    "history_path = history_dir + \"/history.pkl\"\n",
    "\n",
    "filtering_model_path = \"output/models/binary/final/transformer/transformer.pth\"\n",
    "classification_model_path = \"output/models/without_unknown/final/cnn/cnn.pth\"\n",
    "assess_models(history_path, test_loader, init_transformer_binary, filtering_model_path, init_cnn, classification_model_path)"
   ],
   "id": "853029a602820ceb",
   "outputs": [],
   "execution_count": 115
  },
  {
   "metadata": {},
   "cell_type": "markdown",
   "source": "## TR - CNN full",
   "id": "4d6c15bd6ae76bb5"
  },
  {
   "metadata": {
    "ExecuteTime": {
     "end_time": "2025-04-26T18:39:23.769622Z",
     "start_time": "2025-04-26T18:38:00.574126Z"
    }
   },
   "cell_type": "code",
   "source": [
    "history_dir = \"output/history/ensemble/final/trbin_cnnfull\"\n",
    "os.makedirs(history_dir, exist_ok=True)\n",
    "history_path = history_dir + \"/history.pkl\"\n",
    "\n",
    "filtering_model_path = \"output/models/binary/final/transformer/transformer.pth\"\n",
    "classification_model_path = \"output/models/all_classes/final/cnn/cnn.pth\"\n",
    "assess_models(history_path, test_loader, init_transformer_binary, filtering_model_path, init_cnn_all, classification_model_path)"
   ],
   "id": "6de7e19463988c3",
   "outputs": [],
   "execution_count": 117
  },
  {
   "metadata": {},
   "cell_type": "markdown",
   "source": "## Ensemble comparison",
   "id": "53f6a3f318d2ed5a"
  },
  {
   "metadata": {
    "ExecuteTime": {
     "end_time": "2025-04-26T18:56:05.077001Z",
     "start_time": "2025-04-26T18:56:04.985281Z"
    }
   },
   "cell_type": "code",
   "source": [
    "ensemble_root_dir = \"output/history/ensemble/final\"\n",
    "models = [\"cnnbin_cnnfull\", \"cnnbin_cnnwo\", \"cnnbin_trfull\", \"cnnbin_trwo\", \"cnnfull_cnnfull\", \"trbin_cnnfull\", \"trbin_cnnwo\", \"trbin_trfull\", \"trbin_trwo\"]\n",
    "x_label = \"model\"\n",
    "plot_results(ensemble_root_dir, models, x_label, use_balanced_accuracy=True)"
   ],
   "id": "2c9386e35dacd0f9",
   "outputs": [
    {
     "data": {
      "text/plain": [
       "<Figure size 800x500 with 1 Axes>"
      ],
      "image/png": "[encoded data removed]"
     },
     "metadata": {},
     "output_type": "display_data"
    }
   ],
   "execution_count": 130
  },
  {
   "metadata": {},
   "cell_type": "code",
   "outputs": [],
   "execution_count": null,
   "source": "",
   "id": "9c936475add45999"
  }
 ],
 "metadata": {
  "kernelspec": {
   "display_name": "Python 3",
   "language": "python",
   "name": "python3"
  },
  "language_info": {
   "codemirror_mode": {
    "name": "ipython",
    "version": 2
   },
   "file_extension": ".py",
   "mimetype": "text/x-python",
   "name": "python",
   "nbconvert_exporter": "python",
   "pygments_lexer": "ipython2",
   "version": "2.7.6"
  }
 },
 "nbformat": 4,
 "nbformat_minor": 5
}
